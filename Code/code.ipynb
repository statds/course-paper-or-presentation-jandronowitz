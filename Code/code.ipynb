{
 "cells": [
  {
   "cell_type": "markdown",
   "metadata": {},
   "source": [
    "# Code"
   ]
  },
  {
   "cell_type": "code",
   "execution_count": 76,
   "metadata": {
    "executionInfo": {
     "elapsed": 827,
     "status": "ok",
     "timestamp": 1668301964844,
     "user": {
      "displayName": "Julia Andronowitz",
      "userId": "07105284930727884538"
     },
     "user_tz": 300
    },
    "id": "y2Uu9Y67gHRl"
   },
   "outputs": [
    {
     "data": {
      "text/html": [
       "\n",
       "    <div class=\"bk-root\">\n",
       "        <a href=\"https://bokeh.org\" target=\"_blank\" class=\"bk-logo bk-logo-small bk-logo-notebook\"></a>\n",
       "        <span id=\"1689\">Loading BokehJS ...</span>\n",
       "    </div>"
      ]
     },
     "metadata": {},
     "output_type": "display_data"
    },
    {
     "data": {
      "application/javascript": [
       "\n",
       "(function(root) {\n",
       "  function now() {\n",
       "    return new Date();\n",
       "  }\n",
       "\n",
       "  const force = true;\n",
       "\n",
       "  if (typeof root._bokeh_onload_callbacks === \"undefined\" || force === true) {\n",
       "    root._bokeh_onload_callbacks = [];\n",
       "    root._bokeh_is_loading = undefined;\n",
       "  }\n",
       "\n",
       "  const JS_MIME_TYPE = 'application/javascript';\n",
       "  const HTML_MIME_TYPE = 'text/html';\n",
       "  const EXEC_MIME_TYPE = 'application/vnd.bokehjs_exec.v0+json';\n",
       "  const CLASS_NAME = 'output_bokeh rendered_html';\n",
       "\n",
       "  /**\n",
       "   * Render data to the DOM node\n",
       "   */\n",
       "  function render(props, node) {\n",
       "    const script = document.createElement(\"script\");\n",
       "    node.appendChild(script);\n",
       "  }\n",
       "\n",
       "  /**\n",
       "   * Handle when an output is cleared or removed\n",
       "   */\n",
       "  function handleClearOutput(event, handle) {\n",
       "    const cell = handle.cell;\n",
       "\n",
       "    const id = cell.output_area._bokeh_element_id;\n",
       "    const server_id = cell.output_area._bokeh_server_id;\n",
       "    // Clean up Bokeh references\n",
       "    if (id != null && id in Bokeh.index) {\n",
       "      Bokeh.index[id].model.document.clear();\n",
       "      delete Bokeh.index[id];\n",
       "    }\n",
       "\n",
       "    if (server_id !== undefined) {\n",
       "      // Clean up Bokeh references\n",
       "      const cmd_clean = \"from bokeh.io.state import curstate; print(curstate().uuid_to_server['\" + server_id + \"'].get_sessions()[0].document.roots[0]._id)\";\n",
       "      cell.notebook.kernel.execute(cmd_clean, {\n",
       "        iopub: {\n",
       "          output: function(msg) {\n",
       "            const id = msg.content.text.trim();\n",
       "            if (id in Bokeh.index) {\n",
       "              Bokeh.index[id].model.document.clear();\n",
       "              delete Bokeh.index[id];\n",
       "            }\n",
       "          }\n",
       "        }\n",
       "      });\n",
       "      // Destroy server and session\n",
       "      const cmd_destroy = \"import bokeh.io.notebook as ion; ion.destroy_server('\" + server_id + \"')\";\n",
       "      cell.notebook.kernel.execute(cmd_destroy);\n",
       "    }\n",
       "  }\n",
       "\n",
       "  /**\n",
       "   * Handle when a new output is added\n",
       "   */\n",
       "  function handleAddOutput(event, handle) {\n",
       "    const output_area = handle.output_area;\n",
       "    const output = handle.output;\n",
       "\n",
       "    // limit handleAddOutput to display_data with EXEC_MIME_TYPE content only\n",
       "    if ((output.output_type != \"display_data\") || (!Object.prototype.hasOwnProperty.call(output.data, EXEC_MIME_TYPE))) {\n",
       "      return\n",
       "    }\n",
       "\n",
       "    const toinsert = output_area.element.find(\".\" + CLASS_NAME.split(' ')[0]);\n",
       "\n",
       "    if (output.metadata[EXEC_MIME_TYPE][\"id\"] !== undefined) {\n",
       "      toinsert[toinsert.length - 1].firstChild.textContent = output.data[JS_MIME_TYPE];\n",
       "      // store reference to embed id on output_area\n",
       "      output_area._bokeh_element_id = output.metadata[EXEC_MIME_TYPE][\"id\"];\n",
       "    }\n",
       "    if (output.metadata[EXEC_MIME_TYPE][\"server_id\"] !== undefined) {\n",
       "      const bk_div = document.createElement(\"div\");\n",
       "      bk_div.innerHTML = output.data[HTML_MIME_TYPE];\n",
       "      const script_attrs = bk_div.children[0].attributes;\n",
       "      for (let i = 0; i < script_attrs.length; i++) {\n",
       "        toinsert[toinsert.length - 1].firstChild.setAttribute(script_attrs[i].name, script_attrs[i].value);\n",
       "        toinsert[toinsert.length - 1].firstChild.textContent = bk_div.children[0].textContent\n",
       "      }\n",
       "      // store reference to server id on output_area\n",
       "      output_area._bokeh_server_id = output.metadata[EXEC_MIME_TYPE][\"server_id\"];\n",
       "    }\n",
       "  }\n",
       "\n",
       "  function register_renderer(events, OutputArea) {\n",
       "\n",
       "    function append_mime(data, metadata, element) {\n",
       "      // create a DOM node to render to\n",
       "      const toinsert = this.create_output_subarea(\n",
       "        metadata,\n",
       "        CLASS_NAME,\n",
       "        EXEC_MIME_TYPE\n",
       "      );\n",
       "      this.keyboard_manager.register_events(toinsert);\n",
       "      // Render to node\n",
       "      const props = {data: data, metadata: metadata[EXEC_MIME_TYPE]};\n",
       "      render(props, toinsert[toinsert.length - 1]);\n",
       "      element.append(toinsert);\n",
       "      return toinsert\n",
       "    }\n",
       "\n",
       "    /* Handle when an output is cleared or removed */\n",
       "    events.on('clear_output.CodeCell', handleClearOutput);\n",
       "    events.on('delete.Cell', handleClearOutput);\n",
       "\n",
       "    /* Handle when a new output is added */\n",
       "    events.on('output_added.OutputArea', handleAddOutput);\n",
       "\n",
       "    /**\n",
       "     * Register the mime type and append_mime function with output_area\n",
       "     */\n",
       "    OutputArea.prototype.register_mime_type(EXEC_MIME_TYPE, append_mime, {\n",
       "      /* Is output safe? */\n",
       "      safe: true,\n",
       "      /* Index of renderer in `output_area.display_order` */\n",
       "      index: 0\n",
       "    });\n",
       "  }\n",
       "\n",
       "  // register the mime type if in Jupyter Notebook environment and previously unregistered\n",
       "  if (root.Jupyter !== undefined) {\n",
       "    const events = require('base/js/events');\n",
       "    const OutputArea = require('notebook/js/outputarea').OutputArea;\n",
       "\n",
       "    if (OutputArea.prototype.mime_types().indexOf(EXEC_MIME_TYPE) == -1) {\n",
       "      register_renderer(events, OutputArea);\n",
       "    }\n",
       "  }\n",
       "\n",
       "  \n",
       "  if (typeof (root._bokeh_timeout) === \"undefined\" || force === true) {\n",
       "    root._bokeh_timeout = Date.now() + 5000;\n",
       "    root._bokeh_failed_load = false;\n",
       "  }\n",
       "\n",
       "  const NB_LOAD_WARNING = {'data': {'text/html':\n",
       "     \"<div style='background-color: #fdd'>\\n\"+\n",
       "     \"<p>\\n\"+\n",
       "     \"BokehJS does not appear to have successfully loaded. If loading BokehJS from CDN, this \\n\"+\n",
       "     \"may be due to a slow or bad network connection. Possible fixes:\\n\"+\n",
       "     \"</p>\\n\"+\n",
       "     \"<ul>\\n\"+\n",
       "     \"<li>re-rerun `output_notebook()` to attempt to load from CDN again, or</li>\\n\"+\n",
       "     \"<li>use INLINE resources instead, as so:</li>\\n\"+\n",
       "     \"</ul>\\n\"+\n",
       "     \"<code>\\n\"+\n",
       "     \"from bokeh.resources import INLINE\\n\"+\n",
       "     \"output_notebook(resources=INLINE)\\n\"+\n",
       "     \"</code>\\n\"+\n",
       "     \"</div>\"}};\n",
       "\n",
       "  function display_loaded() {\n",
       "    const el = document.getElementById(\"1689\");\n",
       "    if (el != null) {\n",
       "      el.textContent = \"BokehJS is loading...\";\n",
       "    }\n",
       "    if (root.Bokeh !== undefined) {\n",
       "      if (el != null) {\n",
       "        el.textContent = \"BokehJS \" + root.Bokeh.version + \" successfully loaded.\";\n",
       "      }\n",
       "    } else if (Date.now() < root._bokeh_timeout) {\n",
       "      setTimeout(display_loaded, 100)\n",
       "    }\n",
       "  }\n",
       "\n",
       "\n",
       "  function run_callbacks() {\n",
       "    try {\n",
       "      root._bokeh_onload_callbacks.forEach(function(callback) {\n",
       "        if (callback != null)\n",
       "          callback();\n",
       "      });\n",
       "    } finally {\n",
       "      delete root._bokeh_onload_callbacks\n",
       "    }\n",
       "    console.debug(\"Bokeh: all callbacks have finished\");\n",
       "  }\n",
       "\n",
       "  function load_libs(css_urls, js_urls, callback) {\n",
       "    if (css_urls == null) css_urls = [];\n",
       "    if (js_urls == null) js_urls = [];\n",
       "\n",
       "    root._bokeh_onload_callbacks.push(callback);\n",
       "    if (root._bokeh_is_loading > 0) {\n",
       "      console.debug(\"Bokeh: BokehJS is being loaded, scheduling callback at\", now());\n",
       "      return null;\n",
       "    }\n",
       "    if (js_urls == null || js_urls.length === 0) {\n",
       "      run_callbacks();\n",
       "      return null;\n",
       "    }\n",
       "    console.debug(\"Bokeh: BokehJS not loaded, scheduling load and callback at\", now());\n",
       "    root._bokeh_is_loading = css_urls.length + js_urls.length;\n",
       "\n",
       "    function on_load() {\n",
       "      root._bokeh_is_loading--;\n",
       "      if (root._bokeh_is_loading === 0) {\n",
       "        console.debug(\"Bokeh: all BokehJS libraries/stylesheets loaded\");\n",
       "        run_callbacks()\n",
       "      }\n",
       "    }\n",
       "\n",
       "    function on_error(url) {\n",
       "      console.error(\"failed to load \" + url);\n",
       "    }\n",
       "\n",
       "    for (let i = 0; i < css_urls.length; i++) {\n",
       "      const url = css_urls[i];\n",
       "      const element = document.createElement(\"link\");\n",
       "      element.onload = on_load;\n",
       "      element.onerror = on_error.bind(null, url);\n",
       "      element.rel = \"stylesheet\";\n",
       "      element.type = \"text/css\";\n",
       "      element.href = url;\n",
       "      console.debug(\"Bokeh: injecting link tag for BokehJS stylesheet: \", url);\n",
       "      document.body.appendChild(element);\n",
       "    }\n",
       "\n",
       "    for (let i = 0; i < js_urls.length; i++) {\n",
       "      const url = js_urls[i];\n",
       "      const element = document.createElement('script');\n",
       "      element.onload = on_load;\n",
       "      element.onerror = on_error.bind(null, url);\n",
       "      element.async = false;\n",
       "      element.src = url;\n",
       "      console.debug(\"Bokeh: injecting script tag for BokehJS library: \", url);\n",
       "      document.head.appendChild(element);\n",
       "    }\n",
       "  };\n",
       "\n",
       "  function inject_raw_css(css) {\n",
       "    const element = document.createElement(\"style\");\n",
       "    element.appendChild(document.createTextNode(css));\n",
       "    document.body.appendChild(element);\n",
       "  }\n",
       "\n",
       "  \n",
       "  const js_urls = [\"https://cdn.bokeh.org/bokeh/release/bokeh-2.4.2.min.js\", \"https://cdn.bokeh.org/bokeh/release/bokeh-gl-2.4.2.min.js\", \"https://cdn.bokeh.org/bokeh/release/bokeh-widgets-2.4.2.min.js\", \"https://cdn.bokeh.org/bokeh/release/bokeh-tables-2.4.2.min.js\", \"https://cdn.bokeh.org/bokeh/release/bokeh-mathjax-2.4.2.min.js\"];\n",
       "  const css_urls = [];\n",
       "  \n",
       "\n",
       "  const inline_js = [\n",
       "    function(Bokeh) {\n",
       "      Bokeh.set_log_level(\"info\");\n",
       "    },\n",
       "    function(Bokeh) {\n",
       "    \n",
       "    \n",
       "    }\n",
       "  ];\n",
       "\n",
       "  function run_inline_js() {\n",
       "    \n",
       "    if (root.Bokeh !== undefined || force === true) {\n",
       "      \n",
       "    for (let i = 0; i < inline_js.length; i++) {\n",
       "      inline_js[i].call(root, root.Bokeh);\n",
       "    }\n",
       "    if (force === true) {\n",
       "        display_loaded();\n",
       "      }} else if (Date.now() < root._bokeh_timeout) {\n",
       "      setTimeout(run_inline_js, 100);\n",
       "    } else if (!root._bokeh_failed_load) {\n",
       "      console.log(\"Bokeh: BokehJS failed to load within specified timeout.\");\n",
       "      root._bokeh_failed_load = true;\n",
       "    } else if (force !== true) {\n",
       "      const cell = $(document.getElementById(\"1689\")).parents('.cell').data().cell;\n",
       "      cell.output_area.append_execute_result(NB_LOAD_WARNING)\n",
       "    }\n",
       "\n",
       "  }\n",
       "\n",
       "  if (root._bokeh_is_loading === 0) {\n",
       "    console.debug(\"Bokeh: BokehJS loaded, going straight to plotting\");\n",
       "    run_inline_js();\n",
       "  } else {\n",
       "    load_libs(css_urls, js_urls, function() {\n",
       "      console.debug(\"Bokeh: BokehJS plotting callback run at\", now());\n",
       "      run_inline_js();\n",
       "    });\n",
       "  }\n",
       "}(window));"
      ],
      "application/vnd.bokehjs_load.v0+json": "\n(function(root) {\n  function now() {\n    return new Date();\n  }\n\n  const force = true;\n\n  if (typeof root._bokeh_onload_callbacks === \"undefined\" || force === true) {\n    root._bokeh_onload_callbacks = [];\n    root._bokeh_is_loading = undefined;\n  }\n\n  \n\n  \n  if (typeof (root._bokeh_timeout) === \"undefined\" || force === true) {\n    root._bokeh_timeout = Date.now() + 5000;\n    root._bokeh_failed_load = false;\n  }\n\n  const NB_LOAD_WARNING = {'data': {'text/html':\n     \"<div style='background-color: #fdd'>\\n\"+\n     \"<p>\\n\"+\n     \"BokehJS does not appear to have successfully loaded. If loading BokehJS from CDN, this \\n\"+\n     \"may be due to a slow or bad network connection. Possible fixes:\\n\"+\n     \"</p>\\n\"+\n     \"<ul>\\n\"+\n     \"<li>re-rerun `output_notebook()` to attempt to load from CDN again, or</li>\\n\"+\n     \"<li>use INLINE resources instead, as so:</li>\\n\"+\n     \"</ul>\\n\"+\n     \"<code>\\n\"+\n     \"from bokeh.resources import INLINE\\n\"+\n     \"output_notebook(resources=INLINE)\\n\"+\n     \"</code>\\n\"+\n     \"</div>\"}};\n\n  function display_loaded() {\n    const el = document.getElementById(\"1689\");\n    if (el != null) {\n      el.textContent = \"BokehJS is loading...\";\n    }\n    if (root.Bokeh !== undefined) {\n      if (el != null) {\n        el.textContent = \"BokehJS \" + root.Bokeh.version + \" successfully loaded.\";\n      }\n    } else if (Date.now() < root._bokeh_timeout) {\n      setTimeout(display_loaded, 100)\n    }\n  }\n\n\n  function run_callbacks() {\n    try {\n      root._bokeh_onload_callbacks.forEach(function(callback) {\n        if (callback != null)\n          callback();\n      });\n    } finally {\n      delete root._bokeh_onload_callbacks\n    }\n    console.debug(\"Bokeh: all callbacks have finished\");\n  }\n\n  function load_libs(css_urls, js_urls, callback) {\n    if (css_urls == null) css_urls = [];\n    if (js_urls == null) js_urls = [];\n\n    root._bokeh_onload_callbacks.push(callback);\n    if (root._bokeh_is_loading > 0) {\n      console.debug(\"Bokeh: BokehJS is being loaded, scheduling callback at\", now());\n      return null;\n    }\n    if (js_urls == null || js_urls.length === 0) {\n      run_callbacks();\n      return null;\n    }\n    console.debug(\"Bokeh: BokehJS not loaded, scheduling load and callback at\", now());\n    root._bokeh_is_loading = css_urls.length + js_urls.length;\n\n    function on_load() {\n      root._bokeh_is_loading--;\n      if (root._bokeh_is_loading === 0) {\n        console.debug(\"Bokeh: all BokehJS libraries/stylesheets loaded\");\n        run_callbacks()\n      }\n    }\n\n    function on_error(url) {\n      console.error(\"failed to load \" + url);\n    }\n\n    for (let i = 0; i < css_urls.length; i++) {\n      const url = css_urls[i];\n      const element = document.createElement(\"link\");\n      element.onload = on_load;\n      element.onerror = on_error.bind(null, url);\n      element.rel = \"stylesheet\";\n      element.type = \"text/css\";\n      element.href = url;\n      console.debug(\"Bokeh: injecting link tag for BokehJS stylesheet: \", url);\n      document.body.appendChild(element);\n    }\n\n    for (let i = 0; i < js_urls.length; i++) {\n      const url = js_urls[i];\n      const element = document.createElement('script');\n      element.onload = on_load;\n      element.onerror = on_error.bind(null, url);\n      element.async = false;\n      element.src = url;\n      console.debug(\"Bokeh: injecting script tag for BokehJS library: \", url);\n      document.head.appendChild(element);\n    }\n  };\n\n  function inject_raw_css(css) {\n    const element = document.createElement(\"style\");\n    element.appendChild(document.createTextNode(css));\n    document.body.appendChild(element);\n  }\n\n  \n  const js_urls = [\"https://cdn.bokeh.org/bokeh/release/bokeh-2.4.2.min.js\", \"https://cdn.bokeh.org/bokeh/release/bokeh-gl-2.4.2.min.js\", \"https://cdn.bokeh.org/bokeh/release/bokeh-widgets-2.4.2.min.js\", \"https://cdn.bokeh.org/bokeh/release/bokeh-tables-2.4.2.min.js\", \"https://cdn.bokeh.org/bokeh/release/bokeh-mathjax-2.4.2.min.js\"];\n  const css_urls = [];\n  \n\n  const inline_js = [\n    function(Bokeh) {\n      Bokeh.set_log_level(\"info\");\n    },\n    function(Bokeh) {\n    \n    \n    }\n  ];\n\n  function run_inline_js() {\n    \n    if (root.Bokeh !== undefined || force === true) {\n      \n    for (let i = 0; i < inline_js.length; i++) {\n      inline_js[i].call(root, root.Bokeh);\n    }\n    if (force === true) {\n        display_loaded();\n      }} else if (Date.now() < root._bokeh_timeout) {\n      setTimeout(run_inline_js, 100);\n    } else if (!root._bokeh_failed_load) {\n      console.log(\"Bokeh: BokehJS failed to load within specified timeout.\");\n      root._bokeh_failed_load = true;\n    } else if (force !== true) {\n      const cell = $(document.getElementById(\"1689\")).parents('.cell').data().cell;\n      cell.output_area.append_execute_result(NB_LOAD_WARNING)\n    }\n\n  }\n\n  if (root._bokeh_is_loading === 0) {\n    console.debug(\"Bokeh: BokehJS loaded, going straight to plotting\");\n    run_inline_js();\n  } else {\n    load_libs(css_urls, js_urls, function() {\n      console.debug(\"Bokeh: BokehJS plotting callback run at\", now());\n      run_inline_js();\n    });\n  }\n}(window));"
     },
     "metadata": {},
     "output_type": "display_data"
    }
   ],
   "source": [
    "import numpy as np\n",
    "import pandas as pd\n",
    "from bokeh.plotting import figure\n",
    "from bokeh.io import show, output_notebook\n",
    "from bokeh.models import ColumnDataSource, HoverTool\n",
    "from bokeh.layouts import gridplot\n",
    "output_notebook()\n",
    "import statsmodels.api as sm\n",
    "from statsmodels.formula.api import ols\n",
    "import seaborn as sns"
   ]
  },
  {
   "cell_type": "code",
   "execution_count": 77,
   "metadata": {
    "colab": {
     "base_uri": "https://localhost:8080/",
     "height": 416
    },
    "executionInfo": {
     "elapsed": 133,
     "status": "error",
     "timestamp": 1668301967349,
     "user": {
      "displayName": "Julia Andronowitz",
      "userId": "07105284930727884538"
     },
     "user_tz": 300
    },
    "id": "EDjX31l_gHRp",
    "outputId": "359d9e5e-1ad3-46a0-d8e5-961b17f483d0"
   },
   "outputs": [],
   "source": [
    "rawData1=pd.read_csv('archive/basicDrinkingWaterServices.csv')\n",
    "rawData2=pd.read_csv('archive/lifeExpectancyAtBirth.csv')"
   ]
  },
  {
   "cell_type": "code",
   "execution_count": 78,
   "metadata": {
    "id": "8fWw9zOAgHRq",
    "outputId": "1d9ff83b-ca60-4452-c75b-1a8000fcb7a1"
   },
   "outputs": [
    {
     "data": {
      "text/html": [
       "<div>\n",
       "<style scoped>\n",
       "    .dataframe tbody tr th:only-of-type {\n",
       "        vertical-align: middle;\n",
       "    }\n",
       "\n",
       "    .dataframe tbody tr th {\n",
       "        vertical-align: top;\n",
       "    }\n",
       "\n",
       "    .dataframe thead th {\n",
       "        text-align: right;\n",
       "    }\n",
       "</style>\n",
       "<table border=\"1\" class=\"dataframe\">\n",
       "  <thead>\n",
       "    <tr style=\"text-align: right;\">\n",
       "      <th></th>\n",
       "      <th>Location</th>\n",
       "      <th>Period</th>\n",
       "      <th>Indicator</th>\n",
       "      <th>First Tooltip</th>\n",
       "    </tr>\n",
       "  </thead>\n",
       "  <tbody>\n",
       "    <tr>\n",
       "      <th>0</th>\n",
       "      <td>Afghanistan</td>\n",
       "      <td>2017</td>\n",
       "      <td>Population using at least basic drinking-water...</td>\n",
       "      <td>57.32</td>\n",
       "    </tr>\n",
       "    <tr>\n",
       "      <th>1</th>\n",
       "      <td>Afghanistan</td>\n",
       "      <td>2016</td>\n",
       "      <td>Population using at least basic drinking-water...</td>\n",
       "      <td>54.84</td>\n",
       "    </tr>\n",
       "    <tr>\n",
       "      <th>2</th>\n",
       "      <td>Afghanistan</td>\n",
       "      <td>2015</td>\n",
       "      <td>Population using at least basic drinking-water...</td>\n",
       "      <td>52.39</td>\n",
       "    </tr>\n",
       "    <tr>\n",
       "      <th>3</th>\n",
       "      <td>Afghanistan</td>\n",
       "      <td>2014</td>\n",
       "      <td>Population using at least basic drinking-water...</td>\n",
       "      <td>49.96</td>\n",
       "    </tr>\n",
       "    <tr>\n",
       "      <th>4</th>\n",
       "      <td>Afghanistan</td>\n",
       "      <td>2013</td>\n",
       "      <td>Population using at least basic drinking-water...</td>\n",
       "      <td>47.56</td>\n",
       "    </tr>\n",
       "    <tr>\n",
       "      <th>...</th>\n",
       "      <td>...</td>\n",
       "      <td>...</td>\n",
       "      <td>...</td>\n",
       "      <td>...</td>\n",
       "    </tr>\n",
       "    <tr>\n",
       "      <th>3450</th>\n",
       "      <td>Zimbabwe</td>\n",
       "      <td>2004</td>\n",
       "      <td>Population using at least basic drinking-water...</td>\n",
       "      <td>57.94</td>\n",
       "    </tr>\n",
       "    <tr>\n",
       "      <th>3451</th>\n",
       "      <td>Zimbabwe</td>\n",
       "      <td>2003</td>\n",
       "      <td>Population using at least basic drinking-water...</td>\n",
       "      <td>58.59</td>\n",
       "    </tr>\n",
       "    <tr>\n",
       "      <th>3452</th>\n",
       "      <td>Zimbabwe</td>\n",
       "      <td>2002</td>\n",
       "      <td>Population using at least basic drinking-water...</td>\n",
       "      <td>59.23</td>\n",
       "    </tr>\n",
       "    <tr>\n",
       "      <th>3453</th>\n",
       "      <td>Zimbabwe</td>\n",
       "      <td>2001</td>\n",
       "      <td>Population using at least basic drinking-water...</td>\n",
       "      <td>59.88</td>\n",
       "    </tr>\n",
       "    <tr>\n",
       "      <th>3454</th>\n",
       "      <td>Zimbabwe</td>\n",
       "      <td>2000</td>\n",
       "      <td>Population using at least basic drinking-water...</td>\n",
       "      <td>59.88</td>\n",
       "    </tr>\n",
       "  </tbody>\n",
       "</table>\n",
       "<p>3455 rows × 4 columns</p>\n",
       "</div>"
      ],
      "text/plain": [
       "         Location  Period                                          Indicator  \\\n",
       "0     Afghanistan    2017  Population using at least basic drinking-water...   \n",
       "1     Afghanistan    2016  Population using at least basic drinking-water...   \n",
       "2     Afghanistan    2015  Population using at least basic drinking-water...   \n",
       "3     Afghanistan    2014  Population using at least basic drinking-water...   \n",
       "4     Afghanistan    2013  Population using at least basic drinking-water...   \n",
       "...           ...     ...                                                ...   \n",
       "3450     Zimbabwe    2004  Population using at least basic drinking-water...   \n",
       "3451     Zimbabwe    2003  Population using at least basic drinking-water...   \n",
       "3452     Zimbabwe    2002  Population using at least basic drinking-water...   \n",
       "3453     Zimbabwe    2001  Population using at least basic drinking-water...   \n",
       "3454     Zimbabwe    2000  Population using at least basic drinking-water...   \n",
       "\n",
       "      First Tooltip  \n",
       "0             57.32  \n",
       "1             54.84  \n",
       "2             52.39  \n",
       "3             49.96  \n",
       "4             47.56  \n",
       "...             ...  \n",
       "3450          57.94  \n",
       "3451          58.59  \n",
       "3452          59.23  \n",
       "3453          59.88  \n",
       "3454          59.88  \n",
       "\n",
       "[3455 rows x 4 columns]"
      ]
     },
     "execution_count": 78,
     "metadata": {},
     "output_type": "execute_result"
    }
   ],
   "source": [
    "rawData1"
   ]
  },
  {
   "cell_type": "code",
   "execution_count": 79,
   "metadata": {
    "id": "V7MmqpzPgHRr",
    "outputId": "8f472e99-65e0-41b7-c93b-a70a69aa1591"
   },
   "outputs": [
    {
     "data": {
      "text/html": [
       "<div>\n",
       "<style scoped>\n",
       "    .dataframe tbody tr th:only-of-type {\n",
       "        vertical-align: middle;\n",
       "    }\n",
       "\n",
       "    .dataframe tbody tr th {\n",
       "        vertical-align: top;\n",
       "    }\n",
       "\n",
       "    .dataframe thead th {\n",
       "        text-align: right;\n",
       "    }\n",
       "</style>\n",
       "<table border=\"1\" class=\"dataframe\">\n",
       "  <thead>\n",
       "    <tr style=\"text-align: right;\">\n",
       "      <th></th>\n",
       "      <th>Location</th>\n",
       "      <th>Period</th>\n",
       "      <th>Indicator</th>\n",
       "      <th>Dim1</th>\n",
       "      <th>First Tooltip</th>\n",
       "    </tr>\n",
       "  </thead>\n",
       "  <tbody>\n",
       "    <tr>\n",
       "      <th>0</th>\n",
       "      <td>Afghanistan</td>\n",
       "      <td>2019</td>\n",
       "      <td>Life expectancy at birth (years)</td>\n",
       "      <td>Both sexes</td>\n",
       "      <td>63.21</td>\n",
       "    </tr>\n",
       "    <tr>\n",
       "      <th>1</th>\n",
       "      <td>Afghanistan</td>\n",
       "      <td>2019</td>\n",
       "      <td>Life expectancy at birth (years)</td>\n",
       "      <td>Male</td>\n",
       "      <td>63.29</td>\n",
       "    </tr>\n",
       "    <tr>\n",
       "      <th>2</th>\n",
       "      <td>Afghanistan</td>\n",
       "      <td>2019</td>\n",
       "      <td>Life expectancy at birth (years)</td>\n",
       "      <td>Female</td>\n",
       "      <td>63.16</td>\n",
       "    </tr>\n",
       "    <tr>\n",
       "      <th>3</th>\n",
       "      <td>Afghanistan</td>\n",
       "      <td>2015</td>\n",
       "      <td>Life expectancy at birth (years)</td>\n",
       "      <td>Both sexes</td>\n",
       "      <td>61.65</td>\n",
       "    </tr>\n",
       "    <tr>\n",
       "      <th>4</th>\n",
       "      <td>Afghanistan</td>\n",
       "      <td>2015</td>\n",
       "      <td>Life expectancy at birth (years)</td>\n",
       "      <td>Male</td>\n",
       "      <td>61.04</td>\n",
       "    </tr>\n",
       "    <tr>\n",
       "      <th>...</th>\n",
       "      <td>...</td>\n",
       "      <td>...</td>\n",
       "      <td>...</td>\n",
       "      <td>...</td>\n",
       "      <td>...</td>\n",
       "    </tr>\n",
       "    <tr>\n",
       "      <th>2192</th>\n",
       "      <td>Zimbabwe</td>\n",
       "      <td>2010</td>\n",
       "      <td>Life expectancy at birth (years)</td>\n",
       "      <td>Male</td>\n",
       "      <td>49.58</td>\n",
       "    </tr>\n",
       "    <tr>\n",
       "      <th>2193</th>\n",
       "      <td>Zimbabwe</td>\n",
       "      <td>2010</td>\n",
       "      <td>Life expectancy at birth (years)</td>\n",
       "      <td>Female</td>\n",
       "      <td>53.21</td>\n",
       "    </tr>\n",
       "    <tr>\n",
       "      <th>2194</th>\n",
       "      <td>Zimbabwe</td>\n",
       "      <td>2000</td>\n",
       "      <td>Life expectancy at birth (years)</td>\n",
       "      <td>Both sexes</td>\n",
       "      <td>46.57</td>\n",
       "    </tr>\n",
       "    <tr>\n",
       "      <th>2195</th>\n",
       "      <td>Zimbabwe</td>\n",
       "      <td>2000</td>\n",
       "      <td>Life expectancy at birth (years)</td>\n",
       "      <td>Male</td>\n",
       "      <td>45.15</td>\n",
       "    </tr>\n",
       "    <tr>\n",
       "      <th>2196</th>\n",
       "      <td>Zimbabwe</td>\n",
       "      <td>2000</td>\n",
       "      <td>Life expectancy at birth (years)</td>\n",
       "      <td>Female</td>\n",
       "      <td>48.12</td>\n",
       "    </tr>\n",
       "  </tbody>\n",
       "</table>\n",
       "<p>2197 rows × 5 columns</p>\n",
       "</div>"
      ],
      "text/plain": [
       "         Location  Period                         Indicator        Dim1  \\\n",
       "0     Afghanistan    2019  Life expectancy at birth (years)  Both sexes   \n",
       "1     Afghanistan    2019  Life expectancy at birth (years)        Male   \n",
       "2     Afghanistan    2019  Life expectancy at birth (years)      Female   \n",
       "3     Afghanistan    2015  Life expectancy at birth (years)  Both sexes   \n",
       "4     Afghanistan    2015  Life expectancy at birth (years)        Male   \n",
       "...           ...     ...                               ...         ...   \n",
       "2192     Zimbabwe    2010  Life expectancy at birth (years)        Male   \n",
       "2193     Zimbabwe    2010  Life expectancy at birth (years)      Female   \n",
       "2194     Zimbabwe    2000  Life expectancy at birth (years)  Both sexes   \n",
       "2195     Zimbabwe    2000  Life expectancy at birth (years)        Male   \n",
       "2196     Zimbabwe    2000  Life expectancy at birth (years)      Female   \n",
       "\n",
       "      First Tooltip  \n",
       "0             63.21  \n",
       "1             63.29  \n",
       "2             63.16  \n",
       "3             61.65  \n",
       "4             61.04  \n",
       "...             ...  \n",
       "2192          49.58  \n",
       "2193          53.21  \n",
       "2194          46.57  \n",
       "2195          45.15  \n",
       "2196          48.12  \n",
       "\n",
       "[2197 rows x 5 columns]"
      ]
     },
     "execution_count": 79,
     "metadata": {},
     "output_type": "execute_result"
    }
   ],
   "source": [
    "rawData2"
   ]
  },
  {
   "cell_type": "code",
   "execution_count": 80,
   "metadata": {
    "id": "bcGmIZBSgHRs",
    "outputId": "8d9310b5-a3b4-4fbc-8014-58d5bf38c976"
   },
   "outputs": [
    {
     "data": {
      "text/html": [
       "<div>\n",
       "<style scoped>\n",
       "    .dataframe tbody tr th:only-of-type {\n",
       "        vertical-align: middle;\n",
       "    }\n",
       "\n",
       "    .dataframe tbody tr th {\n",
       "        vertical-align: top;\n",
       "    }\n",
       "\n",
       "    .dataframe thead th {\n",
       "        text-align: right;\n",
       "    }\n",
       "</style>\n",
       "<table border=\"1\" class=\"dataframe\">\n",
       "  <thead>\n",
       "    <tr style=\"text-align: right;\">\n",
       "      <th></th>\n",
       "      <th>Location</th>\n",
       "      <th>Period</th>\n",
       "      <th>First Tooltip</th>\n",
       "    </tr>\n",
       "  </thead>\n",
       "  <tbody>\n",
       "    <tr>\n",
       "      <th>0</th>\n",
       "      <td>Afghanistan</td>\n",
       "      <td>2017</td>\n",
       "      <td>57.32</td>\n",
       "    </tr>\n",
       "    <tr>\n",
       "      <th>1</th>\n",
       "      <td>Afghanistan</td>\n",
       "      <td>2016</td>\n",
       "      <td>54.84</td>\n",
       "    </tr>\n",
       "    <tr>\n",
       "      <th>2</th>\n",
       "      <td>Afghanistan</td>\n",
       "      <td>2015</td>\n",
       "      <td>52.39</td>\n",
       "    </tr>\n",
       "    <tr>\n",
       "      <th>3</th>\n",
       "      <td>Afghanistan</td>\n",
       "      <td>2014</td>\n",
       "      <td>49.96</td>\n",
       "    </tr>\n",
       "    <tr>\n",
       "      <th>4</th>\n",
       "      <td>Afghanistan</td>\n",
       "      <td>2013</td>\n",
       "      <td>47.56</td>\n",
       "    </tr>\n",
       "    <tr>\n",
       "      <th>...</th>\n",
       "      <td>...</td>\n",
       "      <td>...</td>\n",
       "      <td>...</td>\n",
       "    </tr>\n",
       "    <tr>\n",
       "      <th>3450</th>\n",
       "      <td>Zimbabwe</td>\n",
       "      <td>2004</td>\n",
       "      <td>57.94</td>\n",
       "    </tr>\n",
       "    <tr>\n",
       "      <th>3451</th>\n",
       "      <td>Zimbabwe</td>\n",
       "      <td>2003</td>\n",
       "      <td>58.59</td>\n",
       "    </tr>\n",
       "    <tr>\n",
       "      <th>3452</th>\n",
       "      <td>Zimbabwe</td>\n",
       "      <td>2002</td>\n",
       "      <td>59.23</td>\n",
       "    </tr>\n",
       "    <tr>\n",
       "      <th>3453</th>\n",
       "      <td>Zimbabwe</td>\n",
       "      <td>2001</td>\n",
       "      <td>59.88</td>\n",
       "    </tr>\n",
       "    <tr>\n",
       "      <th>3454</th>\n",
       "      <td>Zimbabwe</td>\n",
       "      <td>2000</td>\n",
       "      <td>59.88</td>\n",
       "    </tr>\n",
       "  </tbody>\n",
       "</table>\n",
       "<p>3455 rows × 3 columns</p>\n",
       "</div>"
      ],
      "text/plain": [
       "         Location  Period  First Tooltip\n",
       "0     Afghanistan    2017          57.32\n",
       "1     Afghanistan    2016          54.84\n",
       "2     Afghanistan    2015          52.39\n",
       "3     Afghanistan    2014          49.96\n",
       "4     Afghanistan    2013          47.56\n",
       "...           ...     ...            ...\n",
       "3450     Zimbabwe    2004          57.94\n",
       "3451     Zimbabwe    2003          58.59\n",
       "3452     Zimbabwe    2002          59.23\n",
       "3453     Zimbabwe    2001          59.88\n",
       "3454     Zimbabwe    2000          59.88\n",
       "\n",
       "[3455 rows x 3 columns]"
      ]
     },
     "execution_count": 80,
     "metadata": {},
     "output_type": "execute_result"
    }
   ],
   "source": [
    "# taking only necessary columns\n",
    "rawData1=rawData1[[\"Location\", \"Period\" , \"First Tooltip\"]]\n",
    "rawData1"
   ]
  },
  {
   "cell_type": "code",
   "execution_count": 81,
   "metadata": {
    "id": "Ii6DJbr9gHRu",
    "outputId": "8d0264c8-9b43-4605-d0ef-a0bf5906c8ab"
   },
   "outputs": [
    {
     "data": {
      "text/html": [
       "<div>\n",
       "<style scoped>\n",
       "    .dataframe tbody tr th:only-of-type {\n",
       "        vertical-align: middle;\n",
       "    }\n",
       "\n",
       "    .dataframe tbody tr th {\n",
       "        vertical-align: top;\n",
       "    }\n",
       "\n",
       "    .dataframe thead th {\n",
       "        text-align: right;\n",
       "    }\n",
       "</style>\n",
       "<table border=\"1\" class=\"dataframe\">\n",
       "  <thead>\n",
       "    <tr style=\"text-align: right;\">\n",
       "      <th></th>\n",
       "      <th>Location</th>\n",
       "      <th>Period</th>\n",
       "      <th>Dim1</th>\n",
       "      <th>First Tooltip</th>\n",
       "    </tr>\n",
       "  </thead>\n",
       "  <tbody>\n",
       "    <tr>\n",
       "      <th>0</th>\n",
       "      <td>Afghanistan</td>\n",
       "      <td>2019</td>\n",
       "      <td>Both sexes</td>\n",
       "      <td>63.21</td>\n",
       "    </tr>\n",
       "    <tr>\n",
       "      <th>1</th>\n",
       "      <td>Afghanistan</td>\n",
       "      <td>2019</td>\n",
       "      <td>Male</td>\n",
       "      <td>63.29</td>\n",
       "    </tr>\n",
       "    <tr>\n",
       "      <th>2</th>\n",
       "      <td>Afghanistan</td>\n",
       "      <td>2019</td>\n",
       "      <td>Female</td>\n",
       "      <td>63.16</td>\n",
       "    </tr>\n",
       "    <tr>\n",
       "      <th>3</th>\n",
       "      <td>Afghanistan</td>\n",
       "      <td>2015</td>\n",
       "      <td>Both sexes</td>\n",
       "      <td>61.65</td>\n",
       "    </tr>\n",
       "    <tr>\n",
       "      <th>4</th>\n",
       "      <td>Afghanistan</td>\n",
       "      <td>2015</td>\n",
       "      <td>Male</td>\n",
       "      <td>61.04</td>\n",
       "    </tr>\n",
       "    <tr>\n",
       "      <th>...</th>\n",
       "      <td>...</td>\n",
       "      <td>...</td>\n",
       "      <td>...</td>\n",
       "      <td>...</td>\n",
       "    </tr>\n",
       "    <tr>\n",
       "      <th>2192</th>\n",
       "      <td>Zimbabwe</td>\n",
       "      <td>2010</td>\n",
       "      <td>Male</td>\n",
       "      <td>49.58</td>\n",
       "    </tr>\n",
       "    <tr>\n",
       "      <th>2193</th>\n",
       "      <td>Zimbabwe</td>\n",
       "      <td>2010</td>\n",
       "      <td>Female</td>\n",
       "      <td>53.21</td>\n",
       "    </tr>\n",
       "    <tr>\n",
       "      <th>2194</th>\n",
       "      <td>Zimbabwe</td>\n",
       "      <td>2000</td>\n",
       "      <td>Both sexes</td>\n",
       "      <td>46.57</td>\n",
       "    </tr>\n",
       "    <tr>\n",
       "      <th>2195</th>\n",
       "      <td>Zimbabwe</td>\n",
       "      <td>2000</td>\n",
       "      <td>Male</td>\n",
       "      <td>45.15</td>\n",
       "    </tr>\n",
       "    <tr>\n",
       "      <th>2196</th>\n",
       "      <td>Zimbabwe</td>\n",
       "      <td>2000</td>\n",
       "      <td>Female</td>\n",
       "      <td>48.12</td>\n",
       "    </tr>\n",
       "  </tbody>\n",
       "</table>\n",
       "<p>2197 rows × 4 columns</p>\n",
       "</div>"
      ],
      "text/plain": [
       "         Location  Period        Dim1  First Tooltip\n",
       "0     Afghanistan    2019  Both sexes          63.21\n",
       "1     Afghanistan    2019        Male          63.29\n",
       "2     Afghanistan    2019      Female          63.16\n",
       "3     Afghanistan    2015  Both sexes          61.65\n",
       "4     Afghanistan    2015        Male          61.04\n",
       "...           ...     ...         ...            ...\n",
       "2192     Zimbabwe    2010        Male          49.58\n",
       "2193     Zimbabwe    2010      Female          53.21\n",
       "2194     Zimbabwe    2000  Both sexes          46.57\n",
       "2195     Zimbabwe    2000        Male          45.15\n",
       "2196     Zimbabwe    2000      Female          48.12\n",
       "\n",
       "[2197 rows x 4 columns]"
      ]
     },
     "execution_count": 81,
     "metadata": {},
     "output_type": "execute_result"
    }
   ],
   "source": [
    "# taking only necessary columns\n",
    "rawData2=rawData2[[\"Location\", \"Period\", \"Dim1\", \"First Tooltip\"]]\n",
    "rawData2"
   ]
  },
  {
   "cell_type": "code",
   "execution_count": 82,
   "metadata": {
    "id": "uIqlTSKSgHRw"
   },
   "outputs": [],
   "source": [
    "# changing into numpy arrays\n",
    "data1=np.array(rawData1)\n",
    "data2=np.array(rawData2)"
   ]
  },
  {
   "cell_type": "code",
   "execution_count": 83,
   "metadata": {
    "id": "4Qqg0ukygHRz",
    "outputId": "690704fe-cf83-4398-99e1-68a4fcddf3c1"
   },
   "outputs": [
    {
     "data": {
      "text/plain": [
       "[array(['Afghanistan', 2015, 52.39], dtype=object),\n",
       " array(['Albania', 2015, 89.88], dtype=object),\n",
       " array(['Algeria', 2015, 88.69], dtype=object),\n",
       " array(['Andorra', 2015, 100.0], dtype=object),\n",
       " array(['Angola', 2015, 26.71], dtype=object)]"
      ]
     },
     "execution_count": 83,
     "metadata": {},
     "output_type": "execute_result"
    }
   ],
   "source": [
    "# taking 2015 data\n",
    "dw2015=[]\n",
    "for x in data1:\n",
    "    if x[1]==2015:\n",
    "        dw2015.append(x)\n",
    "dw2015[:5]"
   ]
  },
  {
   "cell_type": "code",
   "execution_count": 84,
   "metadata": {
    "id": "EE90jzeSgHR1",
    "outputId": "ea2a2c6d-0ec0-450d-df74-2cccca7b62b7"
   },
   "outputs": [
    {
     "data": {
      "text/plain": [
       "[array(['Afghanistan', 2015, 'Both sexes', 61.65], dtype=object),\n",
       " array(['Albania', 2015, 'Both sexes', 77.84], dtype=object),\n",
       " array(['Algeria', 2015, 'Both sexes', 76.54], dtype=object),\n",
       " array(['Angola', 2015, 'Both sexes', 61.72], dtype=object),\n",
       " array(['Antigua and Barbuda', 2015, 'Both sexes', 76.14], dtype=object)]"
      ]
     },
     "execution_count": 84,
     "metadata": {},
     "output_type": "execute_result"
    }
   ],
   "source": [
    "# taking 2015 data\n",
    "le2015=[]\n",
    "for x in data2:\n",
    "    if (x[1]==2015) and (x[2]=='Both sexes'):\n",
    "        le2015.append(x)\n",
    "le2015[:5]"
   ]
  },
  {
   "cell_type": "code",
   "execution_count": 85,
   "metadata": {
    "id": "YqA_XNMNgHR2"
   },
   "outputs": [],
   "source": [
    "# changing into numpy arrays\n",
    "DW2015=np.array(dw2015)\n",
    "lifeExpectancy2015=np.array(le2015)"
   ]
  },
  {
   "cell_type": "code",
   "execution_count": 86,
   "metadata": {
    "id": "Z7HbEfXfgHR3",
    "outputId": "8976e7fc-90ac-4c79-d8f1-dfa5314a29f1"
   },
   "outputs": [
    {
     "data": {
      "text/plain": [
       "(193, 3)"
      ]
     },
     "execution_count": 86,
     "metadata": {},
     "output_type": "execute_result"
    }
   ],
   "source": [
    "DW2015.shape"
   ]
  },
  {
   "cell_type": "code",
   "execution_count": 87,
   "metadata": {},
   "outputs": [
    {
     "data": {
      "text/plain": [
       "(183, 4)"
      ]
     },
     "execution_count": 87,
     "metadata": {},
     "output_type": "execute_result"
    }
   ],
   "source": [
    "lifeExpectancy2015.shape"
   ]
  },
  {
   "cell_type": "code",
   "execution_count": 88,
   "metadata": {
    "id": "6cOpymVTgHR4",
    "outputId": "0c178413-e940-4c57-e465-c9ca28312fbb"
   },
   "outputs": [],
   "source": [
    "# using only countries in both lists\n",
    "drinkingWater2015=[]\n",
    "for x in DW2015:\n",
    "    if x[0] in lifeExpectancy2015:\n",
    "        drinkingWater2015.append(x)\n",
    "drinkingWater2015=np.array(drinkingWater2015)"
   ]
  },
  {
   "cell_type": "code",
   "execution_count": 89,
   "metadata": {},
   "outputs": [
    {
     "data": {
      "text/plain": [
       "(183, 3)"
      ]
     },
     "execution_count": 89,
     "metadata": {},
     "output_type": "execute_result"
    }
   ],
   "source": [
    "drinkingWater2015.shape"
   ]
  },
  {
   "cell_type": "code",
   "execution_count": 90,
   "metadata": {
    "id": "mEbDCSo5gHR5"
   },
   "outputs": [
    {
     "data": {
      "text/plain": [
       "(183, 4)"
      ]
     },
     "execution_count": 90,
     "metadata": {},
     "output_type": "execute_result"
    }
   ],
   "source": [
    "lifeExpectancy2015.shape"
   ]
  },
  {
   "cell_type": "code",
   "execution_count": 91,
   "metadata": {
    "id": "yF-TK6xOgHR6",
    "outputId": "fadd8aa7-82fc-4d9f-a199-080c00b95459"
   },
   "outputs": [
    {
     "data": {
      "text/plain": [
       "array([ 52.39,  89.88,  88.69,  26.71,  96.74,  92.98,  99.6 , 100.  ,\n",
       "       100.  ,  79.28,  98.89, 100.  ,  96.43,  98.47,  95.94, 100.  ,\n",
       "        95.65,  57.87,  96.13,  75.41,  94.85,  71.89,  87.  ,  99.9 ,\n",
       "        98.24,  37.09,  55.56,  72.87,  69.86,  39.05,  98.77,  33.75,\n",
       "        29.77,  98.16,  84.21,  84.64,  76.91,  41.39,  98.8 ,  57.58,\n",
       "        99.57,  89.67,  99.55,  99.82,  91.62,  22.34, 100.  ,  47.96,\n",
       "        89.36,  81.88,  98.57,  89.25,  30.78,  27.8 ,  99.19,  59.37,\n",
       "        29.11,  88.84, 100.  , 100.  ,  55.05,  63.37,  95.26, 100.  ,\n",
       "        66.04, 100.  ,  95.63,  88.97,  49.72,  52.76, 100.  ,  42.42,\n",
       "        87.31, 100.  , 100.  ,  88.9 ,  80.16,  89.01,  86.56,  96.99,\n",
       "       100.  ,  99.38,  84.4 ,  98.93,  97.78,  89.76,  48.18,  69.08,\n",
       "       100.  ,  81.39,  71.11,  97.88,  92.26,  59.79,  60.81,  97.64,\n",
       "        90.72, 100.  ,  34.78,  63.31,  89.93,  98.25,  64.59, 100.  ,\n",
       "        46.69,  99.83,  94.26,  78.57,  52.86,  95.91,  67.69,  35.54,\n",
       "        74.82,  68.89,  87.48, 100.  , 100.  ,  59.5 ,  41.6 ,  53.11,\n",
       "       100.  ,  77.9 ,  88.84,  90.52,  33.38,  94.27,  72.73,  88.68,\n",
       "        98.15, 100.  ,  99.69,  99.56,  82.08,  90.58, 100.  ,  91.65,\n",
       "        51.22,  97.82,  95.15,  96.25,  75.72,  99.69,  66.61,  84.09,\n",
       "        96.25,  46.9 , 100.  , 100.  ,  99.4 ,  63.01,  26.53,  78.97,\n",
       "        36.4 , 100.  ,  86.36,  51.71,  87.35, 100.  , 100.  ,  94.57,\n",
       "        71.69,  99.02,  65.32,  46.19,  99.77,  98.18,  87.26,  98.63,\n",
       "        97.01,  38.23,  91.33,  96.77, 100.  ,  39.14,  96.97,  92.64,\n",
       "        95.64,  86.98,  95.83,  90.73,  54.7 ,  40.59,  51.03])"
      ]
     },
     "execution_count": 91,
     "metadata": {},
     "output_type": "execute_result"
    }
   ],
   "source": [
    "# assigning x-variable\n",
    "x2015=drinkingWater2015[:,2]\n",
    "x2015=x2015.astype('float64')\n",
    "x2015"
   ]
  },
  {
   "cell_type": "code",
   "execution_count": 92,
   "metadata": {
    "id": "BRV-5K3zgHR7",
    "outputId": "dbefbdb1-209c-45f2-f603-7a4462af028a"
   },
   "outputs": [
    {
     "data": {
      "text/plain": [
       "array([61.65, 77.84, 76.54, 61.72, 76.14, 76.17, 74.51, 82.28, 80.98,\n",
       "       70.67, 72.92, 76.46, 73.58, 76.22, 73.82, 80.71, 74.05, 61.96,\n",
       "       72.15, 71.52, 76.32, 60.93, 75.13, 74.4 , 74.55, 60.92, 62.05,\n",
       "       74.88, 69.17, 59.11, 81.76, 50.53, 57.91, 79.82, 76.64, 78.35,\n",
       "       66.45, 63.11, 80.78, 60.2 , 77.58, 77.91, 82.01, 78.46, 71.76,\n",
       "       60.44, 80.59, 64.64, 71.75, 77.18, 70.49, 73.25, 61.13, 62.29,\n",
       "       77.6 , 54.05, 66.82, 67.83, 81.21, 81.91, 64.93, 64.14, 72.58,\n",
       "       80.42, 64.55, 80.38, 72.7 , 70.95, 58.81, 58.23, 65.59, 62.61,\n",
       "       69.82, 75.57, 82.14, 69.31, 70.61, 76.66, 70.29, 81.14, 81.93,\n",
       "       82.21, 75.85, 83.62, 77.82, 71.91, 64.17, 58.2 , 81.13, 71.59,\n",
       "       67.08, 74.8 , 75.98, 47.67, 61.17, 74.6 , 74.38, 82.31, 64.19,\n",
       "       63.04, 74.95, 78.41, 60.89, 81.65, 67.41, 74.14, 75.87, 62.74,\n",
       "       67.61, 75.27, 72.46, 55.95, 67.58, 62.87, 69.43, 81.28, 81.31,\n",
       "       74.62, 61.54, 61.16, 82.01, 72.52, 64.18, 78.72, 64.49, 75.56,\n",
       "       79.08, 70.3 , 77.29, 80.89, 76.41, 82.2 , 71.13, 73.73, 74.82,\n",
       "       71.3 , 67.69, 75.01, 72.47, 70.04, 69.6 , 73.15, 67.2 , 75.21,\n",
       "       73.2 , 56.94, 82.81, 77.01, 80.47, 64.74, 54.57, 62.57, 61.99,\n",
       "       82.33, 76.27, 67.94, 72.6 , 81.75, 82.61, 64.4 , 68.66, 77.41,\n",
       "       68.87, 61.92, 72.33, 74.61, 76.7 , 77.79, 69.11, 64.47, 72.2 ,\n",
       "       75.31, 80.65, 65.36, 78.56, 77.03, 71.45, 64.64, 74.66, 73.16,\n",
       "       67.47, 60.5 , 58.48])"
      ]
     },
     "execution_count": 92,
     "metadata": {},
     "output_type": "execute_result"
    }
   ],
   "source": [
    "# assigning y-variable\n",
    "y2015=lifeExpectancy2015[:,3]\n",
    "y2015=y2015.astype('float64')\n",
    "y2015"
   ]
  },
  {
   "cell_type": "code",
   "execution_count": 93,
   "metadata": {
    "id": "gPGVCiLPgHR7",
    "outputId": "2906d455-b558-47eb-a5f6-3c65f98dbe42"
   },
   "outputs": [
    {
     "data": {
      "text/html": [
       "\n",
       "\n",
       "\n",
       "\n",
       "\n",
       "\n",
       "  <div class=\"bk-root\" id=\"2566262b-047f-4022-aabb-fc5c4f617266\" data-root-id=\"1690\"></div>\n"
      ]
     },
     "metadata": {},
     "output_type": "display_data"
    },
    {
     "data": {
      "application/javascript": [
       "(function(root) {\n",
       "  function embed_document(root) {\n",
       "    \n",
       "  const docs_json = {\"17bec16c-e4d2-4419-9d6d-75bcda096435\":{\"defs\":[],\"roots\":{\"references\":[{\"attributes\":{\"below\":[{\"id\":\"1701\"}],\"center\":[{\"id\":\"1704\"},{\"id\":\"1708\"}],\"height\":400,\"left\":[{\"id\":\"1705\"}],\"renderers\":[{\"id\":\"1727\"}],\"title\":{\"id\":\"1691\"},\"toolbar\":{\"id\":\"1716\"},\"width\":400,\"x_range\":{\"id\":\"1693\"},\"x_scale\":{\"id\":\"1697\"},\"y_range\":{\"id\":\"1695\"},\"y_scale\":{\"id\":\"1699\"}},\"id\":\"1690\",\"subtype\":\"Figure\",\"type\":\"Plot\"},{\"attributes\":{\"coordinates\":null,\"data_source\":{\"id\":\"1723\"},\"glyph\":{\"id\":\"1724\"},\"group\":null,\"hover_glyph\":null,\"muted_glyph\":{\"id\":\"1726\"},\"nonselection_glyph\":{\"id\":\"1725\"},\"view\":{\"id\":\"1728\"}},\"id\":\"1727\",\"type\":\"GlyphRenderer\"},{\"attributes\":{\"source\":{\"id\":\"1723\"}},\"id\":\"1728\",\"type\":\"CDSView\"},{\"attributes\":{\"fill_color\":{\"value\":\"#1f77b4\"},\"line_color\":{\"value\":\"#1f77b4\"},\"x\":{\"field\":\"x\"},\"y\":{\"field\":\"y\"}},\"id\":\"1724\",\"type\":\"Scatter\"},{\"attributes\":{},\"id\":\"1710\",\"type\":\"WheelZoomTool\"},{\"attributes\":{\"overlay\":{\"id\":\"1715\"}},\"id\":\"1711\",\"type\":\"BoxZoomTool\"},{\"attributes\":{\"axis_label\":\"life expectancy (yrs)\",\"coordinates\":null,\"formatter\":{\"id\":\"1779\"},\"group\":null,\"major_label_policy\":{\"id\":\"1780\"},\"ticker\":{\"id\":\"1706\"}},\"id\":\"1705\",\"type\":\"LinearAxis\"},{\"attributes\":{\"tools\":[{\"id\":\"1709\"},{\"id\":\"1710\"},{\"id\":\"1711\"},{\"id\":\"1712\"},{\"id\":\"1713\"},{\"id\":\"1714\"}]},\"id\":\"1716\",\"type\":\"Toolbar\"},{\"attributes\":{},\"id\":\"1714\",\"type\":\"HelpTool\"},{\"attributes\":{},\"id\":\"1713\",\"type\":\"ResetTool\"},{\"attributes\":{},\"id\":\"1780\",\"type\":\"AllLabels\"},{\"attributes\":{},\"id\":\"1709\",\"type\":\"PanTool\"},{\"attributes\":{},\"id\":\"1785\",\"type\":\"Selection\"},{\"attributes\":{},\"id\":\"1693\",\"type\":\"DataRange1d\"},{\"attributes\":{},\"id\":\"1779\",\"type\":\"BasicTickFormatter\"},{\"attributes\":{\"fill_alpha\":{\"value\":0.2},\"fill_color\":{\"value\":\"#1f77b4\"},\"hatch_alpha\":{\"value\":0.2},\"line_alpha\":{\"value\":0.2},\"line_color\":{\"value\":\"#1f77b4\"},\"x\":{\"field\":\"x\"},\"y\":{\"field\":\"y\"}},\"id\":\"1726\",\"type\":\"Scatter\"},{\"attributes\":{\"axis\":{\"id\":\"1701\"},\"coordinates\":null,\"group\":null,\"ticker\":null},\"id\":\"1704\",\"type\":\"Grid\"},{\"attributes\":{},\"id\":\"1706\",\"type\":\"BasicTicker\"},{\"attributes\":{\"coordinates\":null,\"group\":null,\"text\":\"Basic Drinking Water vs. Life Expectancy\"},\"id\":\"1691\",\"type\":\"Title\"},{\"attributes\":{\"axis_label\":\"population with access to drinking water (%)\",\"coordinates\":null,\"formatter\":{\"id\":\"1782\"},\"group\":null,\"major_label_policy\":{\"id\":\"1783\"},\"ticker\":{\"id\":\"1702\"}},\"id\":\"1701\",\"type\":\"LinearAxis\"},{\"attributes\":{},\"id\":\"1784\",\"type\":\"UnionRenderers\"},{\"attributes\":{},\"id\":\"1702\",\"type\":\"BasicTicker\"},{\"attributes\":{\"fill_alpha\":{\"value\":0.1},\"fill_color\":{\"value\":\"#1f77b4\"},\"hatch_alpha\":{\"value\":0.1},\"line_alpha\":{\"value\":0.1},\"line_color\":{\"value\":\"#1f77b4\"},\"x\":{\"field\":\"x\"},\"y\":{\"field\":\"y\"}},\"id\":\"1725\",\"type\":\"Scatter\"},{\"attributes\":{},\"id\":\"1783\",\"type\":\"AllLabels\"},{\"attributes\":{\"axis\":{\"id\":\"1705\"},\"coordinates\":null,\"dimension\":1,\"group\":null,\"ticker\":null},\"id\":\"1708\",\"type\":\"Grid\"},{\"attributes\":{\"bottom_units\":\"screen\",\"coordinates\":null,\"fill_alpha\":0.5,\"fill_color\":\"lightgrey\",\"group\":null,\"left_units\":\"screen\",\"level\":\"overlay\",\"line_alpha\":1.0,\"line_color\":\"black\",\"line_dash\":[4,4],\"line_width\":2,\"right_units\":\"screen\",\"syncable\":false,\"top_units\":\"screen\"},\"id\":\"1715\",\"type\":\"BoxAnnotation\"},{\"attributes\":{},\"id\":\"1712\",\"type\":\"SaveTool\"},{\"attributes\":{},\"id\":\"1699\",\"type\":\"LinearScale\"},{\"attributes\":{},\"id\":\"1697\",\"type\":\"LinearScale\"},{\"attributes\":{\"data\":{\"x\":{\"__ndarray__\":\"UrgehesxSkC4HoXrUXhWQFyPwvUoLFZA9ihcj8K1OkCPwvUoXC9YQB+F61G4PldAZmZmZmbmWEAAAAAAAABZQAAAAAAAAFlAUrgehevRU0ApXI/C9bhYQAAAAAAAAFlA7FG4HoUbWECuR+F6FJ5YQFyPwvUo/FdAAAAAAAAAWUCamZmZmelXQI/C9Shc70xAuB6F61EIWEAK16NwPdpSQGZmZmZmtldAKVyPwvX4UUAAAAAAAMBVQJqZmZmZ+VhAj8L1KFyPWEDsUbgehYtCQEjhehSux0tASOF6FK43UkDXo3A9CndRQGZmZmZmhkNA4XoUrkexWEAAAAAAAOBAQIXrUbgexT1ACtejcD2KWEA9CtejcA1VQClcj8L1KFVACtejcD06U0BSuB6F67FEQDMzMzMzs1hACtejcD3KTEAUrkfheuRYQHsUrkfhalZAMzMzMzPjWEAUrkfhevRYQEjhehSu51ZA16NwPQpXNkAAAAAAAABZQHsUrkfh+kdA16NwPQpXVkC4HoXrUXhUQBSuR+F6pFhAAAAAAABQVkBI4XoUrsc+QM3MzMzMzDtAXI/C9SjMWECPwvUoXK9NQFyPwvUoHD1A9ihcj8I1VkAAAAAAAABZQAAAAAAAAFlAZmZmZmaGS0CPwvUoXK9PQHE9Ctej0FdAAAAAAAAAWUDD9Shcj4JQQAAAAAAAAFlAuB6F61HoV0CuR+F6FD5WQFyPwvUo3EhA4XoUrkdhSkAAAAAAAABZQPYoXI/CNUVApHA9CtfTVUAAAAAAAABZQAAAAAAAAFlAmpmZmZk5VkAK16NwPQpUQHE9CtejQFZApHA9CtejVUCPwvUoXD9YQAAAAAAAAFlAuB6F61HYWECamZmZmRlVQOxRuB6Fu1hAUrgehetxWEBxPQrXo3BWQNejcD0KF0hAhetRuB5FUUAAAAAAAABZQClcj8L1WFRA16NwPQrHUUC4HoXrUXhYQHE9CtejEFdAhetRuB7lTUBI4XoUrmdOQClcj8L1aFhArkfhehSuVkAAAAAAAABZQKRwPQrXY0FASOF6FK6nT0DsUbgehXtWQAAAAAAAkFhA9ihcj8IlUEAAAAAAAABZQLgehetRWEdAhetRuB71WEBxPQrXo5BXQBSuR+F6pFNArkfhehRuSkAK16NwPfpXQFyPwvUo7FBAhetRuB7FQUAUrkfherRSQClcj8L1OFFAH4XrUbjeVUAAAAAAAABZQAAAAAAAAFlAAAAAAADATUDNzMzMzMxEQK5H4XoUjkpAAAAAAAAAWUCamZmZmXlTQPYoXI/CNVZA4XoUrkehVkBxPQrXo7BAQOF6FK5HkVdAH4XrUbguUkDsUbgehStWQJqZmZmZiVhAAAAAAAAAWUBcj8L1KOxYQKRwPQrX41hAhetRuB6FVECF61G4HqVWQAAAAAAAAFlAmpmZmZnpVkBcj8L1KJxJQBSuR+F6dFhAmpmZmZnJV0AAAAAAABBYQK5H4XoU7lJAXI/C9SjsWEDXo3A9CqdQQPYoXI/CBVVAAAAAAAAQWEAzMzMzM3NHQAAAAAAAAFlAAAAAAAAAWUCamZmZmdlYQOF6FK5HgU9ASOF6FK6HOkCuR+F6FL5TQDMzMzMzM0JAAAAAAAAAWUDXo3A9CpdVQHsUrkfh2klAZmZmZmbWVUAAAAAAAABZQAAAAAAAAFlAFK5H4XqkV0Bcj8L1KOxRQOF6FK5HwVhAFK5H4XpUUEC4HoXrURhHQOF6FK5H8VhA7FG4HoWLWEBxPQrXo9BVQLgehetRqFhAcT0K16NAWEA9CtejcB1DQIXrUbge1VZA4XoUrkcxWEAAAAAAAABZQFK4HoXrkUNArkfhehQ+WEApXI/C9ShXQClcj8L16FdAH4XrUbi+VUCF61G4HvVXQB+F61G4rlZAmpmZmZlZS0DsUbgehUtEQKRwPQrXg0lA\",\"dtype\":\"float64\",\"order\":\"little\",\"shape\":[183]},\"y\":{\"__ndarray__\":\"MzMzMzPTTkD2KFyPwnVTQMP1KFyPIlNAXI/C9SjcTkApXI/C9QhTQHsUrkfhClNAcT0K16OgUkBSuB6F65FUQB+F61G4PlRAexSuR+GqUUB7FK5H4TpSQD0K16NwHVNAhetRuB5lUkCuR+F6FA5TQBSuR+F6dFJAPQrXo3AtVEAzMzMzM4NSQHsUrkfh+k5AmpmZmZkJUkDhehSuR+FRQBSuR+F6FFNA16NwPQp3TkC4HoXrUchSQJqZmZmZmVJAMzMzMzOjUkD2KFyPwnVOQGZmZmZmBk9AuB6F61G4UkB7FK5H4UpRQK5H4XoUjk1AcT0K16NwVECkcD0K10NJQBSuR+F69ExAFK5H4Xr0U0ApXI/C9ShTQGZmZmZmllNAzczMzMycUECuR+F6FI5PQFK4HoXrMVRAmpmZmZkZTkCF61G4HmVTQArXo3A9elNAcT0K16OAVEA9CtejcJ1TQHE9Ctej8FFAuB6F61E4TkD2KFyPwiVUQClcj8L1KFBAAAAAAADwUUDsUbgehUtTQI/C9Shcn1FAAAAAAABQUkBxPQrXo5BOQIXrUbgeJU9AZmZmZmZmU0BmZmZmZgZLQBSuR+F6tFBAhetRuB71UEA9CtejcE1UQArXo3A9elRA7FG4HoU7UEApXI/C9QhQQIXrUbgeJVJAexSuR+EaVEAzMzMzMyNQQLgehetRGFRAzczMzMwsUkDNzMzMzLxRQEjhehSuZ01APQrXo3AdTUD2KFyPwmVQQK5H4XoUTk9AFK5H4Xp0UUAUrkfheuRSQClcj8L1iFRApHA9CtdTUUDXo3A9CqdRQArXo3A9KlNAw/UoXI+SUUApXI/C9UhUQOxRuB6Fe1RAPQrXo3CNVEBmZmZmZvZSQEjhehSu51RAFK5H4Xp0U0AK16NwPfpRQHsUrkfhClBAmpmZmZkZTUC4HoXrUUhUQPYoXI/C5VFAhetRuB7FUEAzMzMzM7NSQB+F61G4/lJA9ihcj8LVR0D2KFyPwpVOQGZmZmZmplJAuB6F61GYUkCkcD0K15NUQFyPwvUoDFBAhetRuB6FT0DNzMzMzLxSQArXo3A9mlNAUrgehetxTkCamZmZmWlUQArXo3A92lBAKVyPwvWIUkBI4XoUrvdSQB+F61G4Xk9A16NwPQrnUEDhehSuR9FSQD0K16NwHVJAmpmZmZn5S0CF61G4HuVQQI/C9Shcb09A7FG4HoVbUUBSuB6F61FUQKRwPQrXU1RASOF6FK6nUkCF61G4HsVOQBSuR+F6lE5AcT0K16OAVEDhehSuRyFSQOxRuB6FC1BArkfhehSuU0CPwvUoXB9QQKRwPQrX41JAhetRuB7FU0AzMzMzM5NRQMP1KFyPUlNAKVyPwvU4VEAK16NwPRpTQM3MzMzMjFRAuB6F61HIUUAfhetRuG5SQBSuR+F6tFJAMzMzMzPTUUBcj8L1KOxQQHE9CtejwFJArkfhehQeUkDD9Shcj4JRQGZmZmZmZlFAmpmZmZlJUkDNzMzMzMxQQD0K16NwzVJAzczMzMxMUkC4HoXrUXhMQKRwPQrXs1RAcT0K16NAU0CuR+F6FB5UQI/C9ShcL1BAKVyPwvVIS0ApXI/C9UhPQB+F61G4/k5AhetRuB6VVEDhehSuRxFTQFyPwvUo/FBAZmZmZmYmUkAAAAAAAHBUQNejcD0Kp1RAmpmZmZkZUEAK16NwPSpRQArXo3A9WlNASOF6FK43UUD2KFyPwvVOQIXrUbgeFVJA16NwPQqnUkDNzMzMzCxTQMP1KFyPclNA16NwPQpHUUCuR+F6FB5QQM3MzMzMDFJApHA9CtfTUkCamZmZmSlUQNejcD0KV1BApHA9CtejU0BSuB6F60FTQM3MzMzM3FFAKVyPwvUoUEAK16NwPapSQArXo3A9SlJArkfhehTeUEAAAAAAAEBOQD0K16NwPU1A\",\"dtype\":\"float64\",\"order\":\"little\",\"shape\":[183]}},\"selected\":{\"id\":\"1785\"},\"selection_policy\":{\"id\":\"1784\"}},\"id\":\"1723\",\"type\":\"ColumnDataSource\"},{\"attributes\":{},\"id\":\"1695\",\"type\":\"DataRange1d\"},{\"attributes\":{},\"id\":\"1782\",\"type\":\"BasicTickFormatter\"}],\"root_ids\":[\"1690\"]},\"title\":\"Bokeh Application\",\"version\":\"2.4.2\"}};\n",
       "  const render_items = [{\"docid\":\"17bec16c-e4d2-4419-9d6d-75bcda096435\",\"root_ids\":[\"1690\"],\"roots\":{\"1690\":\"2566262b-047f-4022-aabb-fc5c4f617266\"}}];\n",
       "  root.Bokeh.embed.embed_items_notebook(docs_json, render_items);\n",
       "\n",
       "  }\n",
       "  if (root.Bokeh !== undefined) {\n",
       "    embed_document(root);\n",
       "  } else {\n",
       "    let attempts = 0;\n",
       "    const timer = setInterval(function(root) {\n",
       "      if (root.Bokeh !== undefined) {\n",
       "        clearInterval(timer);\n",
       "        embed_document(root);\n",
       "      } else {\n",
       "        attempts++;\n",
       "        if (attempts > 100) {\n",
       "          clearInterval(timer);\n",
       "          console.log(\"Bokeh: ERROR: Unable to run BokehJS code because BokehJS library is missing\");\n",
       "        }\n",
       "      }\n",
       "    }, 10, root)\n",
       "  }\n",
       "})(window);"
      ],
      "application/vnd.bokehjs_exec.v0+json": ""
     },
     "metadata": {
      "application/vnd.bokehjs_exec.v0+json": {
       "id": "1690"
      }
     },
     "output_type": "display_data"
    }
   ],
   "source": [
    "# creating scatterplot\n",
    "f2015=figure(width=400,height=400,title='Basic Drinking Water vs. Life Expectancy')\n",
    "f2015.scatter(x=x2015,y=y2015)\n",
    "f2015.xaxis.axis_label='population with access to drinking water (%)'\n",
    "f2015.yaxis.axis_label='life expectancy (yrs)'\n",
    "show(f2015)"
   ]
  },
  {
   "cell_type": "code",
   "execution_count": 94,
   "metadata": {
    "id": "X8Ltd0-xgHR8",
    "outputId": "6016dcef-f1d4-4aa4-fe50-ee24618352d8"
   },
   "outputs": [
    {
     "data": {
      "text/plain": [
       "array([[52.39,  1.  ],\n",
       "       [89.88,  1.  ],\n",
       "       [88.69,  1.  ],\n",
       "       [26.71,  1.  ],\n",
       "       [96.74,  1.  ]])"
      ]
     },
     "execution_count": 94,
     "metadata": {},
     "output_type": "execute_result"
    }
   ],
   "source": [
    "# reshaping and adding column of ones\n",
    "x2015=x2015.reshape(-1,1)\n",
    "X2015=np.concatenate([x2015,np.ones(shape=(x2015.shape[0],1))],axis=1)\n",
    "X2015[:5]"
   ]
  },
  {
   "cell_type": "code",
   "execution_count": 95,
   "metadata": {
    "id": "UKpd-0l2gHR9",
    "outputId": "42074915-9a2a-4ad0-df0b-9e4a75cb5e2c"
   },
   "outputs": [
    {
     "data": {
      "text/plain": [
       "array([[61.65],\n",
       "       [77.84],\n",
       "       [76.54],\n",
       "       [61.72],\n",
       "       [76.14]])"
      ]
     },
     "execution_count": 95,
     "metadata": {},
     "output_type": "execute_result"
    }
   ],
   "source": [
    "# reshaping into column vector\n",
    "Y2015=y2015.reshape(-1,1)\n",
    "Y2015[:5]"
   ]
  },
  {
   "cell_type": "code",
   "execution_count": 96,
   "metadata": {
    "id": "FpqctzQPgHR9",
    "outputId": "8068c3e2-059e-48b0-db72-797b4a8ec8f9"
   },
   "outputs": [
    {
     "data": {
      "text/plain": [
       "(183, 2)"
      ]
     },
     "execution_count": 96,
     "metadata": {},
     "output_type": "execute_result"
    }
   ],
   "source": [
    "X2015.shape"
   ]
  },
  {
   "cell_type": "code",
   "execution_count": 97,
   "metadata": {},
   "outputs": [
    {
     "data": {
      "text/plain": [
       "(183, 1)"
      ]
     },
     "execution_count": 97,
     "metadata": {},
     "output_type": "execute_result"
    }
   ],
   "source": [
    "Y2015.shape"
   ]
  },
  {
   "cell_type": "code",
   "execution_count": 98,
   "metadata": {
    "id": "wAGXEdkCgHR-",
    "outputId": "3438f469-a607-4a03-f53a-9987e5e438d1"
   },
   "outputs": [
    {
     "data": {
      "text/plain": [
       "array([[1.2679497e+06, 1.4676580e+04],\n",
       "       [1.4676580e+04, 1.8300000e+02]])"
      ]
     },
     "execution_count": 98,
     "metadata": {},
     "output_type": "execute_result"
    }
   ],
   "source": [
    "# computing M matrix\n",
    "D2015=X2015.transpose()@X2015\n",
    "D2015"
   ]
  },
  {
   "cell_type": "code",
   "execution_count": 99,
   "metadata": {
    "id": "_tvit1VmgHR-",
    "outputId": "929243db-cdf7-408a-98bc-0c4bd7e1a015"
   },
   "outputs": [
    {
     "data": {
      "text/plain": [
       "array([[ 1.10023601e-05, -8.82388077e-04],\n",
       "       [-8.82388077e-04,  7.62319082e-02]])"
      ]
     },
     "execution_count": 99,
     "metadata": {},
     "output_type": "execute_result"
    }
   ],
   "source": [
    "# taking inverse\n",
    "np.linalg.inv(D2015)"
   ]
  },
  {
   "cell_type": "code",
   "execution_count": 100,
   "metadata": {
    "id": "i3W0LZFXgHR_",
    "outputId": "cc035e91-9be1-4f95-e966-9b5029dbfc12"
   },
   "outputs": [
    {
     "data": {
      "text/plain": [
       "array([[ 0.27859093],\n",
       "       [49.15736534]])"
      ]
     },
     "execution_count": 100,
     "metadata": {},
     "output_type": "execute_result"
    }
   ],
   "source": [
    "# calculating slope and intercept\n",
    "M2015=(np.linalg.inv(D2015)@X2015.transpose())@Y2015\n",
    "M2015"
   ]
  },
  {
   "cell_type": "code",
   "execution_count": 101,
   "metadata": {
    "id": "0X4vFU-CgHSD"
   },
   "outputs": [],
   "source": [
    "# calculating predicted values\n",
    "Yhat2015 = np.dot(np.dot(np.dot(X2015,np.linalg.inv(D2015)),\n",
    "                         X2015.transpose()),Y2015)"
   ]
  },
  {
   "cell_type": "code",
   "execution_count": 102,
   "metadata": {
    "id": "vaaHkHzUgHSD",
    "outputId": "4043a375-15ac-44cf-b502-32b415296a03"
   },
   "outputs": [
    {
     "data": {
      "text/html": [
       "\n",
       "\n",
       "\n",
       "\n",
       "\n",
       "\n",
       "  <div class=\"bk-root\" id=\"2a13719e-e00d-4120-abfe-fce6a822877c\" data-root-id=\"1690\"></div>\n"
      ]
     },
     "metadata": {},
     "output_type": "display_data"
    },
    {
     "data": {
      "application/javascript": [
       "(function(root) {\n",
       "  function embed_document(root) {\n",
       "    \n",
       "  const docs_json = {\"2912ba73-ffe8-4e63-baf0-71862a1208c8\":{\"defs\":[],\"roots\":{\"references\":[{\"attributes\":{\"below\":[{\"id\":\"1701\"}],\"center\":[{\"id\":\"1704\"},{\"id\":\"1708\"}],\"height\":400,\"left\":[{\"id\":\"1705\"}],\"renderers\":[{\"id\":\"1727\"},{\"id\":\"1841\"}],\"title\":{\"id\":\"1691\"},\"toolbar\":{\"id\":\"1716\"},\"width\":400,\"x_range\":{\"id\":\"1693\"},\"x_scale\":{\"id\":\"1697\"},\"y_range\":{\"id\":\"1695\"},\"y_scale\":{\"id\":\"1699\"}},\"id\":\"1690\",\"subtype\":\"Figure\",\"type\":\"Plot\"},{\"attributes\":{\"coordinates\":null,\"data_source\":{\"id\":\"1723\"},\"glyph\":{\"id\":\"1724\"},\"group\":null,\"hover_glyph\":null,\"muted_glyph\":{\"id\":\"1726\"},\"nonselection_glyph\":{\"id\":\"1725\"},\"view\":{\"id\":\"1728\"}},\"id\":\"1727\",\"type\":\"GlyphRenderer\"},{\"attributes\":{\"source\":{\"id\":\"1723\"}},\"id\":\"1728\",\"type\":\"CDSView\"},{\"attributes\":{\"source\":{\"id\":\"1837\"}},\"id\":\"1842\",\"type\":\"CDSView\"},{\"attributes\":{\"fill_color\":{\"value\":\"#1f77b4\"},\"line_color\":{\"value\":\"#1f77b4\"},\"x\":{\"field\":\"x\"},\"y\":{\"field\":\"y\"}},\"id\":\"1724\",\"type\":\"Scatter\"},{\"attributes\":{},\"id\":\"1710\",\"type\":\"WheelZoomTool\"},{\"attributes\":{\"overlay\":{\"id\":\"1715\"}},\"id\":\"1711\",\"type\":\"BoxZoomTool\"},{\"attributes\":{\"axis_label\":\"life expectancy (yrs)\",\"coordinates\":null,\"formatter\":{\"id\":\"1779\"},\"group\":null,\"major_label_policy\":{\"id\":\"1780\"},\"ticker\":{\"id\":\"1706\"}},\"id\":\"1705\",\"type\":\"LinearAxis\"},{\"attributes\":{\"tools\":[{\"id\":\"1709\"},{\"id\":\"1710\"},{\"id\":\"1711\"},{\"id\":\"1712\"},{\"id\":\"1713\"},{\"id\":\"1714\"}]},\"id\":\"1716\",\"type\":\"Toolbar\"},{\"attributes\":{},\"id\":\"1714\",\"type\":\"HelpTool\"},{\"attributes\":{},\"id\":\"1713\",\"type\":\"ResetTool\"},{\"attributes\":{},\"id\":\"1780\",\"type\":\"AllLabels\"},{\"attributes\":{},\"id\":\"1709\",\"type\":\"PanTool\"},{\"attributes\":{\"line_alpha\":0.1,\"x\":{\"field\":\"x\"},\"y\":{\"field\":\"y\"}},\"id\":\"1839\",\"type\":\"Line\"},{\"attributes\":{},\"id\":\"1785\",\"type\":\"Selection\"},{\"attributes\":{},\"id\":\"1693\",\"type\":\"DataRange1d\"},{\"attributes\":{},\"id\":\"1779\",\"type\":\"BasicTickFormatter\"},{\"attributes\":{\"data\":{\"x\":{\"__ndarray__\":\"UrgehesxSkC4HoXrUXhWQFyPwvUoLFZA9ihcj8K1OkCPwvUoXC9YQB+F61G4PldAZmZmZmbmWEAAAAAAAABZQAAAAAAAAFlAUrgehevRU0ApXI/C9bhYQAAAAAAAAFlA7FG4HoUbWECuR+F6FJ5YQFyPwvUo/FdAAAAAAAAAWUCamZmZmelXQI/C9Shc70xAuB6F61EIWEAK16NwPdpSQGZmZmZmtldAKVyPwvX4UUAAAAAAAMBVQJqZmZmZ+VhAj8L1KFyPWEDsUbgehYtCQEjhehSux0tASOF6FK43UkDXo3A9CndRQGZmZmZmhkNA4XoUrkexWEAAAAAAAOBAQIXrUbgexT1ACtejcD2KWEA9CtejcA1VQClcj8L1KFVACtejcD06U0BSuB6F67FEQDMzMzMzs1hACtejcD3KTEAUrkfheuRYQHsUrkfhalZAMzMzMzPjWEAUrkfhevRYQEjhehSu51ZA16NwPQpXNkAAAAAAAABZQHsUrkfh+kdA16NwPQpXVkC4HoXrUXhUQBSuR+F6pFhAAAAAAABQVkBI4XoUrsc+QM3MzMzMzDtAXI/C9SjMWECPwvUoXK9NQFyPwvUoHD1A9ihcj8I1VkAAAAAAAABZQAAAAAAAAFlAZmZmZmaGS0CPwvUoXK9PQHE9Ctej0FdAAAAAAAAAWUDD9Shcj4JQQAAAAAAAAFlAuB6F61HoV0CuR+F6FD5WQFyPwvUo3EhA4XoUrkdhSkAAAAAAAABZQPYoXI/CNUVApHA9CtfTVUAAAAAAAABZQAAAAAAAAFlAmpmZmZk5VkAK16NwPQpUQHE9CtejQFZApHA9CtejVUCPwvUoXD9YQAAAAAAAAFlAuB6F61HYWECamZmZmRlVQOxRuB6Fu1hAUrgehetxWEBxPQrXo3BWQNejcD0KF0hAhetRuB5FUUAAAAAAAABZQClcj8L1WFRA16NwPQrHUUC4HoXrUXhYQHE9CtejEFdAhetRuB7lTUBI4XoUrmdOQClcj8L1aFhArkfhehSuVkAAAAAAAABZQKRwPQrXY0FASOF6FK6nT0DsUbgehXtWQAAAAAAAkFhA9ihcj8IlUEAAAAAAAABZQLgehetRWEdAhetRuB71WEBxPQrXo5BXQBSuR+F6pFNArkfhehRuSkAK16NwPfpXQFyPwvUo7FBAhetRuB7FQUAUrkfherRSQClcj8L1OFFAH4XrUbjeVUAAAAAAAABZQAAAAAAAAFlAAAAAAADATUDNzMzMzMxEQK5H4XoUjkpAAAAAAAAAWUCamZmZmXlTQPYoXI/CNVZA4XoUrkehVkBxPQrXo7BAQOF6FK5HkVdAH4XrUbguUkDsUbgehStWQJqZmZmZiVhAAAAAAAAAWUBcj8L1KOxYQKRwPQrX41hAhetRuB6FVECF61G4HqVWQAAAAAAAAFlAmpmZmZnpVkBcj8L1KJxJQBSuR+F6dFhAmpmZmZnJV0AAAAAAABBYQK5H4XoU7lJAXI/C9SjsWEDXo3A9CqdQQPYoXI/CBVVAAAAAAAAQWEAzMzMzM3NHQAAAAAAAAFlAAAAAAAAAWUCamZmZmdlYQOF6FK5HgU9ASOF6FK6HOkCuR+F6FL5TQDMzMzMzM0JAAAAAAAAAWUDXo3A9CpdVQHsUrkfh2klAZmZmZmbWVUAAAAAAAABZQAAAAAAAAFlAFK5H4XqkV0Bcj8L1KOxRQOF6FK5HwVhAFK5H4XpUUEC4HoXrURhHQOF6FK5H8VhA7FG4HoWLWEBxPQrXo9BVQLgehetRqFhAcT0K16NAWEA9CtejcB1DQIXrUbge1VZA4XoUrkcxWEAAAAAAAABZQFK4HoXrkUNArkfhehQ+WEApXI/C9ShXQClcj8L16FdAH4XrUbi+VUCF61G4HvVXQB+F61G4rlZAmpmZmZlZS0DsUbgehUtEQKRwPQrXg0lA\",\"dtype\":\"float64\",\"order\":\"little\",\"shape\":[183]},\"y\":{\"__ndarray__\":\"+NvU7VngT0BncTCXnYxSQBKDDepld1JAVIDmmpxMTEBwOGOb7QZTQDEY6lXjw1JAzJtL4+s5U0AwDFOpDUFTQDAMU6kNQVNAtk9rl57PUUBmNMsjQy1TQDAMU6kNQVNAU0HqoWYBU0Bg/twTxiVTQKlXVA+q+FJAMAxTqQ1BU0AsJsJffvNSQFrx6Q/iUVBAC61kTQ38UkCQ8Hw7nopRQIBFs9M65VJAvhPVbNtLUUBaSGEFRFlSQCUw0TdFP1NAyB3/QawhU0AHyJtAwr5NQHDISziyKFBACOcAklRdUUCAudWfqSdRQDIVS9WmBE5AppJiaB8rU0CK84XVp0dNQH63vvC6uUxATAdkGj8gU0CSmCBAhSdSQFwxAvUvL1JA9NUY4lylUUDetztiGFhOQBG7PFeoK1NA6r9XYLZMUEBgc3H0YjlTQFVWOQ/fiFJAvq2Kqgc5U0CYGTYQ2D1TQC+anbSjq1JAISn3c8ewS0AwDFOpDUFTQBXjfAthQk9ARF/AFViDUkAWqpse+v1RQGzaXoWOJ1NAXCBL/2GBUkDprsoYv91MQMKkKBJ7c0xAnshQeJwyU0C41oW2oGxQQLLEP+MxokxAL01QlBJ6UkAwDFOpDUFTQDAMU6kNQVNANBnPW5ofUEBgOtBy8rNQQLAYrj6K7FJAMAxTqQ1BU0BqSKh8jeNQQDAMU6kNQVNApmDbFSPzUkC2Uaz0Y3xSQOi/JNojgU9AymsvnIvtT0AwDFOpDUFTQIk6FR7TfE5Acj/a/speUkAwDFOpDUFTQDAMU6kNQVNAGJ4EciR7UkDcRhVLT99RQO/ceYgafVJAukyMq2tRUkCq3ie3YgtTQDAMU6kNQVNA/h1htv81U0D87TB+6CpSQJ6/mLf5LVNAnFxDnngZU0Cqz8fbeYpSQK/eUWU5Sk9AY56tXcEZUUAwDFOpDUFTQGjABYw99VFAoPisKvM9UUCoOMUPQRtTQPRNdvEMt1JAtgx0xh10UEBAa21/TYZQQDv185j5FlNASN0Mt5ebUkAwDFOpDUFTQDd2X5FibE1AgukbleCyUEBpX/HPgY1SQJSA8ubZIVNAElHNDrPJUEAwDFOpDUFTQIjZAGIXFU9AZHwptQU+U0C+f5vPtdpSQEDo6tf1wlFABCQzfxzxT0A+L3ogIfhSQOv3hs34AFFAMyHigXyHTUDWKmU3GYBRQAJJnR9eFlFAKs8D89JhUkAwDFOpDUFTQDAMU6kNQVNAQtvhFvJuUEDj7SlylV9OQGlwvLYG+k9AMAxTqQ1BU0AKDDisA7dRQC9NUJQSelJALCUJ1AaYUkCnYysndjpNQJHijnTj2lJAvX+xjNVaUUBCIBpFOHdSQHekcHURIFNAMAxTqQ1BU0AgFdqvhjtTQJgQfk81OVNAOmKfAYsBUkAEdr2xGJlSQDAMU6kNQVNAm8J3oyysUkCiilwnobZPQM7nEDIvGlNAu9k4KJTqUkC6Ts0IMf5SQKDn9TQlkFFAIBXar4Y7U0CMSNk2t+1QQOP2t4RhJVJAuk7NCDH+UkCLD+9xlBxPQDAMU6kNQVNAMAxTqQ1BU0Ck40cAWzZTQEFVlkCHrVBANZusaDFGTECdWPKdF8pRQGSEaFUnpk1AMAxTqQ1BU0CIlIjI2k1SQOZdiEwayE9AqMqnkoFfUkAwDFOpDUFTQDAMU6kNQVNA2nYUyTzgUkCaW9GJSkhRQO44J4SUL1NAKX40GLfWUECfQO7yQgNPQIwrddfzPFNA48xKZJogU0BeURnG5l1SQFUrE2OgKFNAQKQOAb4LU0CCyF8paedNQK5oCwV4plJA3GA9inYHU0AwDFOpDUFTQMMHaG7cB05ACRlBbQcLU0Cl+JZt071SQHLDzrpQ81JAsoJ6u+hYUkDCGN/4s/ZSQCBAAFzFm1JA3paIzlwZUEB09h1KkTtOQOHfO6var09A\",\"dtype\":\"float64\",\"order\":\"little\",\"shape\":[183]}},\"selected\":{\"id\":\"1901\"},\"selection_policy\":{\"id\":\"1900\"}},\"id\":\"1837\",\"type\":\"ColumnDataSource\"},{\"attributes\":{\"fill_alpha\":{\"value\":0.2},\"fill_color\":{\"value\":\"#1f77b4\"},\"hatch_alpha\":{\"value\":0.2},\"line_alpha\":{\"value\":0.2},\"line_color\":{\"value\":\"#1f77b4\"},\"x\":{\"field\":\"x\"},\"y\":{\"field\":\"y\"}},\"id\":\"1726\",\"type\":\"Scatter\"},{\"attributes\":{\"axis\":{\"id\":\"1701\"},\"coordinates\":null,\"group\":null,\"ticker\":null},\"id\":\"1704\",\"type\":\"Grid\"},{\"attributes\":{},\"id\":\"1706\",\"type\":\"BasicTicker\"},{\"attributes\":{},\"id\":\"1901\",\"type\":\"Selection\"},{\"attributes\":{},\"id\":\"1900\",\"type\":\"UnionRenderers\"},{\"attributes\":{\"coordinates\":null,\"group\":null,\"text\":\"Basic Drinking Water vs. Life Expectancy\"},\"id\":\"1691\",\"type\":\"Title\"},{\"attributes\":{\"x\":{\"field\":\"x\"},\"y\":{\"field\":\"y\"}},\"id\":\"1838\",\"type\":\"Line\"},{\"attributes\":{\"axis_label\":\"population with access to drinking water (%)\",\"coordinates\":null,\"formatter\":{\"id\":\"1782\"},\"group\":null,\"major_label_policy\":{\"id\":\"1783\"},\"ticker\":{\"id\":\"1702\"}},\"id\":\"1701\",\"type\":\"LinearAxis\"},{\"attributes\":{},\"id\":\"1784\",\"type\":\"UnionRenderers\"},{\"attributes\":{},\"id\":\"1702\",\"type\":\"BasicTicker\"},{\"attributes\":{\"fill_alpha\":{\"value\":0.1},\"fill_color\":{\"value\":\"#1f77b4\"},\"hatch_alpha\":{\"value\":0.1},\"line_alpha\":{\"value\":0.1},\"line_color\":{\"value\":\"#1f77b4\"},\"x\":{\"field\":\"x\"},\"y\":{\"field\":\"y\"}},\"id\":\"1725\",\"type\":\"Scatter\"},{\"attributes\":{},\"id\":\"1783\",\"type\":\"AllLabels\"},{\"attributes\":{\"axis\":{\"id\":\"1705\"},\"coordinates\":null,\"dimension\":1,\"group\":null,\"ticker\":null},\"id\":\"1708\",\"type\":\"Grid\"},{\"attributes\":{\"bottom_units\":\"screen\",\"coordinates\":null,\"fill_alpha\":0.5,\"fill_color\":\"lightgrey\",\"group\":null,\"left_units\":\"screen\",\"level\":\"overlay\",\"line_alpha\":1.0,\"line_color\":\"black\",\"line_dash\":[4,4],\"line_width\":2,\"right_units\":\"screen\",\"syncable\":false,\"top_units\":\"screen\"},\"id\":\"1715\",\"type\":\"BoxAnnotation\"},{\"attributes\":{},\"id\":\"1712\",\"type\":\"SaveTool\"},{\"attributes\":{},\"id\":\"1699\",\"type\":\"LinearScale\"},{\"attributes\":{},\"id\":\"1697\",\"type\":\"LinearScale\"},{\"attributes\":{\"data\":{\"x\":{\"__ndarray__\":\"UrgehesxSkC4HoXrUXhWQFyPwvUoLFZA9ihcj8K1OkCPwvUoXC9YQB+F61G4PldAZmZmZmbmWEAAAAAAAABZQAAAAAAAAFlAUrgehevRU0ApXI/C9bhYQAAAAAAAAFlA7FG4HoUbWECuR+F6FJ5YQFyPwvUo/FdAAAAAAAAAWUCamZmZmelXQI/C9Shc70xAuB6F61EIWEAK16NwPdpSQGZmZmZmtldAKVyPwvX4UUAAAAAAAMBVQJqZmZmZ+VhAj8L1KFyPWEDsUbgehYtCQEjhehSux0tASOF6FK43UkDXo3A9CndRQGZmZmZmhkNA4XoUrkexWEAAAAAAAOBAQIXrUbgexT1ACtejcD2KWEA9CtejcA1VQClcj8L1KFVACtejcD06U0BSuB6F67FEQDMzMzMzs1hACtejcD3KTEAUrkfheuRYQHsUrkfhalZAMzMzMzPjWEAUrkfhevRYQEjhehSu51ZA16NwPQpXNkAAAAAAAABZQHsUrkfh+kdA16NwPQpXVkC4HoXrUXhUQBSuR+F6pFhAAAAAAABQVkBI4XoUrsc+QM3MzMzMzDtAXI/C9SjMWECPwvUoXK9NQFyPwvUoHD1A9ihcj8I1VkAAAAAAAABZQAAAAAAAAFlAZmZmZmaGS0CPwvUoXK9PQHE9Ctej0FdAAAAAAAAAWUDD9Shcj4JQQAAAAAAAAFlAuB6F61HoV0CuR+F6FD5WQFyPwvUo3EhA4XoUrkdhSkAAAAAAAABZQPYoXI/CNUVApHA9CtfTVUAAAAAAAABZQAAAAAAAAFlAmpmZmZk5VkAK16NwPQpUQHE9CtejQFZApHA9CtejVUCPwvUoXD9YQAAAAAAAAFlAuB6F61HYWECamZmZmRlVQOxRuB6Fu1hAUrgehetxWEBxPQrXo3BWQNejcD0KF0hAhetRuB5FUUAAAAAAAABZQClcj8L1WFRA16NwPQrHUUC4HoXrUXhYQHE9CtejEFdAhetRuB7lTUBI4XoUrmdOQClcj8L1aFhArkfhehSuVkAAAAAAAABZQKRwPQrXY0FASOF6FK6nT0DsUbgehXtWQAAAAAAAkFhA9ihcj8IlUEAAAAAAAABZQLgehetRWEdAhetRuB71WEBxPQrXo5BXQBSuR+F6pFNArkfhehRuSkAK16NwPfpXQFyPwvUo7FBAhetRuB7FQUAUrkfherRSQClcj8L1OFFAH4XrUbjeVUAAAAAAAABZQAAAAAAAAFlAAAAAAADATUDNzMzMzMxEQK5H4XoUjkpAAAAAAAAAWUCamZmZmXlTQPYoXI/CNVZA4XoUrkehVkBxPQrXo7BAQOF6FK5HkVdAH4XrUbguUkDsUbgehStWQJqZmZmZiVhAAAAAAAAAWUBcj8L1KOxYQKRwPQrX41hAhetRuB6FVECF61G4HqVWQAAAAAAAAFlAmpmZmZnpVkBcj8L1KJxJQBSuR+F6dFhAmpmZmZnJV0AAAAAAABBYQK5H4XoU7lJAXI/C9SjsWEDXo3A9CqdQQPYoXI/CBVVAAAAAAAAQWEAzMzMzM3NHQAAAAAAAAFlAAAAAAAAAWUCamZmZmdlYQOF6FK5HgU9ASOF6FK6HOkCuR+F6FL5TQDMzMzMzM0JAAAAAAAAAWUDXo3A9CpdVQHsUrkfh2klAZmZmZmbWVUAAAAAAAABZQAAAAAAAAFlAFK5H4XqkV0Bcj8L1KOxRQOF6FK5HwVhAFK5H4XpUUEC4HoXrURhHQOF6FK5H8VhA7FG4HoWLWEBxPQrXo9BVQLgehetRqFhAcT0K16NAWEA9CtejcB1DQIXrUbge1VZA4XoUrkcxWEAAAAAAAABZQFK4HoXrkUNArkfhehQ+WEApXI/C9ShXQClcj8L16FdAH4XrUbi+VUCF61G4HvVXQB+F61G4rlZAmpmZmZlZS0DsUbgehUtEQKRwPQrXg0lA\",\"dtype\":\"float64\",\"order\":\"little\",\"shape\":[183]},\"y\":{\"__ndarray__\":\"MzMzMzPTTkD2KFyPwnVTQMP1KFyPIlNAXI/C9SjcTkApXI/C9QhTQHsUrkfhClNAcT0K16OgUkBSuB6F65FUQB+F61G4PlRAexSuR+GqUUB7FK5H4TpSQD0K16NwHVNAhetRuB5lUkCuR+F6FA5TQBSuR+F6dFJAPQrXo3AtVEAzMzMzM4NSQHsUrkfh+k5AmpmZmZkJUkDhehSuR+FRQBSuR+F6FFNA16NwPQp3TkC4HoXrUchSQJqZmZmZmVJAMzMzMzOjUkD2KFyPwnVOQGZmZmZmBk9AuB6F61G4UkB7FK5H4UpRQK5H4XoUjk1AcT0K16NwVECkcD0K10NJQBSuR+F69ExAFK5H4Xr0U0ApXI/C9ShTQGZmZmZmllNAzczMzMycUECuR+F6FI5PQFK4HoXrMVRAmpmZmZkZTkCF61G4HmVTQArXo3A9elNAcT0K16OAVEA9CtejcJ1TQHE9Ctej8FFAuB6F61E4TkD2KFyPwiVUQClcj8L1KFBAAAAAAADwUUDsUbgehUtTQI/C9Shcn1FAAAAAAABQUkBxPQrXo5BOQIXrUbgeJU9AZmZmZmZmU0BmZmZmZgZLQBSuR+F6tFBAhetRuB71UEA9CtejcE1UQArXo3A9elRA7FG4HoU7UEApXI/C9QhQQIXrUbgeJVJAexSuR+EaVEAzMzMzMyNQQLgehetRGFRAzczMzMwsUkDNzMzMzLxRQEjhehSuZ01APQrXo3AdTUD2KFyPwmVQQK5H4XoUTk9AFK5H4Xp0UUAUrkfheuRSQClcj8L1iFRApHA9CtdTUUDXo3A9CqdRQArXo3A9KlNAw/UoXI+SUUApXI/C9UhUQOxRuB6Fe1RAPQrXo3CNVEBmZmZmZvZSQEjhehSu51RAFK5H4Xp0U0AK16NwPfpRQHsUrkfhClBAmpmZmZkZTUC4HoXrUUhUQPYoXI/C5VFAhetRuB7FUEAzMzMzM7NSQB+F61G4/lJA9ihcj8LVR0D2KFyPwpVOQGZmZmZmplJAuB6F61GYUkCkcD0K15NUQFyPwvUoDFBAhetRuB6FT0DNzMzMzLxSQArXo3A9mlNAUrgehetxTkCamZmZmWlUQArXo3A92lBAKVyPwvWIUkBI4XoUrvdSQB+F61G4Xk9A16NwPQrnUEDhehSuR9FSQD0K16NwHVJAmpmZmZn5S0CF61G4HuVQQI/C9Shcb09A7FG4HoVbUUBSuB6F61FUQKRwPQrXU1RASOF6FK6nUkCF61G4HsVOQBSuR+F6lE5AcT0K16OAVEDhehSuRyFSQOxRuB6FC1BArkfhehSuU0CPwvUoXB9QQKRwPQrX41JAhetRuB7FU0AzMzMzM5NRQMP1KFyPUlNAKVyPwvU4VEAK16NwPRpTQM3MzMzMjFRAuB6F61HIUUAfhetRuG5SQBSuR+F6tFJAMzMzMzPTUUBcj8L1KOxQQHE9CtejwFJArkfhehQeUkDD9Shcj4JRQGZmZmZmZlFAmpmZmZlJUkDNzMzMzMxQQD0K16NwzVJAzczMzMxMUkC4HoXrUXhMQKRwPQrXs1RAcT0K16NAU0CuR+F6FB5UQI/C9ShcL1BAKVyPwvVIS0ApXI/C9UhPQB+F61G4/k5AhetRuB6VVEDhehSuRxFTQFyPwvUo/FBAZmZmZmYmUkAAAAAAAHBUQNejcD0Kp1RAmpmZmZkZUEAK16NwPSpRQArXo3A9WlNASOF6FK43UUD2KFyPwvVOQIXrUbgeFVJA16NwPQqnUkDNzMzMzCxTQMP1KFyPclNA16NwPQpHUUCuR+F6FB5QQM3MzMzMDFJApHA9CtfTUkCamZmZmSlUQNejcD0KV1BApHA9CtejU0BSuB6F60FTQM3MzMzM3FFAKVyPwvUoUEAK16NwPapSQArXo3A9SlJArkfhehTeUEAAAAAAAEBOQD0K16NwPU1A\",\"dtype\":\"float64\",\"order\":\"little\",\"shape\":[183]}},\"selected\":{\"id\":\"1785\"},\"selection_policy\":{\"id\":\"1784\"}},\"id\":\"1723\",\"type\":\"ColumnDataSource\"},{\"attributes\":{},\"id\":\"1695\",\"type\":\"DataRange1d\"},{\"attributes\":{\"line_alpha\":0.2,\"x\":{\"field\":\"x\"},\"y\":{\"field\":\"y\"}},\"id\":\"1840\",\"type\":\"Line\"},{\"attributes\":{\"coordinates\":null,\"data_source\":{\"id\":\"1837\"},\"glyph\":{\"id\":\"1838\"},\"group\":null,\"hover_glyph\":null,\"muted_glyph\":{\"id\":\"1840\"},\"nonselection_glyph\":{\"id\":\"1839\"},\"view\":{\"id\":\"1842\"}},\"id\":\"1841\",\"type\":\"GlyphRenderer\"},{\"attributes\":{},\"id\":\"1782\",\"type\":\"BasicTickFormatter\"}],\"root_ids\":[\"1690\"]},\"title\":\"Bokeh Application\",\"version\":\"2.4.2\"}};\n",
       "  const render_items = [{\"docid\":\"2912ba73-ffe8-4e63-baf0-71862a1208c8\",\"root_ids\":[\"1690\"],\"roots\":{\"1690\":\"2a13719e-e00d-4120-abfe-fce6a822877c\"}}];\n",
       "  root.Bokeh.embed.embed_items_notebook(docs_json, render_items);\n",
       "\n",
       "  }\n",
       "  if (root.Bokeh !== undefined) {\n",
       "    embed_document(root);\n",
       "  } else {\n",
       "    let attempts = 0;\n",
       "    const timer = setInterval(function(root) {\n",
       "      if (root.Bokeh !== undefined) {\n",
       "        clearInterval(timer);\n",
       "        embed_document(root);\n",
       "      } else {\n",
       "        attempts++;\n",
       "        if (attempts > 100) {\n",
       "          clearInterval(timer);\n",
       "          console.log(\"Bokeh: ERROR: Unable to run BokehJS code because BokehJS library is missing\");\n",
       "        }\n",
       "      }\n",
       "    }, 10, root)\n",
       "  }\n",
       "})(window);"
      ],
      "application/vnd.bokehjs_exec.v0+json": ""
     },
     "metadata": {
      "application/vnd.bokehjs_exec.v0+json": {
       "id": "1690"
      }
     },
     "output_type": "display_data"
    }
   ],
   "source": [
    "# scatterplot with best fit line\n",
    "f2015.line(x=x2015.ravel(),y=Yhat2015[:,0],color='black')\n",
    "show(f2015)"
   ]
  },
  {
   "cell_type": "code",
   "execution_count": 103,
   "metadata": {
    "id": "YzsbaNSwgHSE",
    "outputId": "986e31b3-e1e0-4706-c0e5-3ad6288f813c"
   },
   "outputs": [
    {
     "data": {
      "text/html": [
       "\n",
       "\n",
       "\n",
       "\n",
       "\n",
       "\n",
       "  <div class=\"bk-root\" id=\"54499ff0-513f-46e9-83fe-0e42e8ec1ba8\" data-root-id=\"1963\"></div>\n"
      ]
     },
     "metadata": {},
     "output_type": "display_data"
    },
    {
     "data": {
      "application/javascript": [
       "(function(root) {\n",
       "  function embed_document(root) {\n",
       "    \n",
       "  const docs_json = {\"8de2ba54-a30f-4bb5-9754-22ee16ed530d\":{\"defs\":[],\"roots\":{\"references\":[{\"attributes\":{\"below\":[{\"id\":\"1974\"}],\"center\":[{\"id\":\"1977\"},{\"id\":\"1981\"}],\"left\":[{\"id\":\"1978\"}],\"renderers\":[{\"id\":\"2000\"},{\"id\":\"2006\"}],\"title\":{\"id\":\"1964\"},\"toolbar\":{\"id\":\"1989\"},\"x_range\":{\"id\":\"1966\"},\"x_scale\":{\"id\":\"1970\"},\"y_range\":{\"id\":\"1968\"},\"y_scale\":{\"id\":\"1972\"}},\"id\":\"1963\",\"subtype\":\"Figure\",\"type\":\"Plot\"},{\"attributes\":{},\"id\":\"1985\",\"type\":\"SaveTool\"},{\"attributes\":{\"overlay\":{\"id\":\"1988\"}},\"id\":\"1984\",\"type\":\"BoxZoomTool\"},{\"attributes\":{},\"id\":\"1983\",\"type\":\"WheelZoomTool\"},{\"attributes\":{},\"id\":\"1987\",\"type\":\"HelpTool\"},{\"attributes\":{},\"id\":\"1979\",\"type\":\"BasicTicker\"},{\"attributes\":{},\"id\":\"2077\",\"type\":\"UnionRenderers\"},{\"attributes\":{},\"id\":\"2070\",\"type\":\"BasicTickFormatter\"},{\"attributes\":{},\"id\":\"2078\",\"type\":\"Selection\"},{\"attributes\":{\"bottom_units\":\"screen\",\"coordinates\":null,\"fill_alpha\":0.5,\"fill_color\":\"lightgrey\",\"group\":null,\"left_units\":\"screen\",\"level\":\"overlay\",\"line_alpha\":1.0,\"line_color\":\"black\",\"line_dash\":[4,4],\"line_width\":2,\"right_units\":\"screen\",\"syncable\":false,\"top_units\":\"screen\"},\"id\":\"1988\",\"type\":\"BoxAnnotation\"},{\"attributes\":{},\"id\":\"2071\",\"type\":\"AllLabels\"},{\"attributes\":{\"fill_alpha\":{\"value\":0.1},\"fill_color\":{\"value\":\"#1f77b4\"},\"hatch_alpha\":{\"value\":0.1},\"line_alpha\":{\"value\":0.1},\"line_color\":{\"value\":\"#1f77b4\"},\"x\":{\"field\":\"x\"},\"y\":{\"field\":\"y\"}},\"id\":\"1998\",\"type\":\"Scatter\"},{\"attributes\":{\"coordinates\":null,\"data_source\":{\"id\":\"2002\"},\"glyph\":{\"id\":\"2003\"},\"group\":null,\"hover_glyph\":null,\"muted_glyph\":{\"id\":\"2005\"},\"nonselection_glyph\":{\"id\":\"2004\"},\"view\":{\"id\":\"2007\"}},\"id\":\"2006\",\"type\":\"GlyphRenderer\"},{\"attributes\":{},\"id\":\"2073\",\"type\":\"BasicTickFormatter\"},{\"attributes\":{\"data\":{\"x\":[22.34,100.0],\"y\":[0,0]},\"selected\":{\"id\":\"2078\"},\"selection_policy\":{\"id\":\"2077\"}},\"id\":\"2002\",\"type\":\"ColumnDataSource\"},{\"attributes\":{\"fill_color\":{\"value\":\"#1f77b4\"},\"line_color\":{\"value\":\"#1f77b4\"},\"x\":{\"field\":\"x\"},\"y\":{\"field\":\"y\"}},\"id\":\"1997\",\"type\":\"Scatter\"},{\"attributes\":{\"line_alpha\":0.2,\"line_color\":\"#1f77b4\",\"x\":{\"field\":\"x\"},\"y\":{\"field\":\"y\"}},\"id\":\"2005\",\"type\":\"Line\"},{\"attributes\":{},\"id\":\"2074\",\"type\":\"AllLabels\"},{\"attributes\":{\"coordinates\":null,\"group\":null,\"text\":\"Difference between Measured and Predicted Values\"},\"id\":\"1964\",\"type\":\"Title\"},{\"attributes\":{\"source\":{\"id\":\"2002\"}},\"id\":\"2007\",\"type\":\"CDSView\"},{\"attributes\":{},\"id\":\"1966\",\"type\":\"DataRange1d\"},{\"attributes\":{\"tools\":[{\"id\":\"1982\"},{\"id\":\"1983\"},{\"id\":\"1984\"},{\"id\":\"1985\"},{\"id\":\"1986\"},{\"id\":\"1987\"}]},\"id\":\"1989\",\"type\":\"Toolbar\"},{\"attributes\":{},\"id\":\"1986\",\"type\":\"ResetTool\"},{\"attributes\":{},\"id\":\"1972\",\"type\":\"LinearScale\"},{\"attributes\":{},\"id\":\"1982\",\"type\":\"PanTool\"},{\"attributes\":{\"axis_label\":\"x\",\"coordinates\":null,\"formatter\":{\"id\":\"2073\"},\"group\":null,\"major_label_policy\":{\"id\":\"2074\"},\"ticker\":{\"id\":\"1975\"}},\"id\":\"1974\",\"type\":\"LinearAxis\"},{\"attributes\":{\"coordinates\":null,\"data_source\":{\"id\":\"1996\"},\"glyph\":{\"id\":\"1997\"},\"group\":null,\"hover_glyph\":null,\"muted_glyph\":{\"id\":\"1999\"},\"nonselection_glyph\":{\"id\":\"1998\"},\"view\":{\"id\":\"2001\"}},\"id\":\"2000\",\"type\":\"GlyphRenderer\"},{\"attributes\":{},\"id\":\"1970\",\"type\":\"LinearScale\"},{\"attributes\":{},\"id\":\"2075\",\"type\":\"UnionRenderers\"},{\"attributes\":{\"axis\":{\"id\":\"1974\"},\"coordinates\":null,\"group\":null,\"ticker\":null},\"id\":\"1977\",\"type\":\"Grid\"},{\"attributes\":{},\"id\":\"1968\",\"type\":\"DataRange1d\"},{\"attributes\":{},\"id\":\"1975\",\"type\":\"BasicTicker\"},{\"attributes\":{\"data\":{\"x\":{\"__ndarray__\":\"UrgehesxSkC4HoXrUXhWQFyPwvUoLFZA9ihcj8K1OkCPwvUoXC9YQB+F61G4PldAZmZmZmbmWEAAAAAAAABZQAAAAAAAAFlAUrgehevRU0ApXI/C9bhYQAAAAAAAAFlA7FG4HoUbWECuR+F6FJ5YQFyPwvUo/FdAAAAAAAAAWUCamZmZmelXQI/C9Shc70xAuB6F61EIWEAK16NwPdpSQGZmZmZmtldAKVyPwvX4UUAAAAAAAMBVQJqZmZmZ+VhAj8L1KFyPWEDsUbgehYtCQEjhehSux0tASOF6FK43UkDXo3A9CndRQGZmZmZmhkNA4XoUrkexWEAAAAAAAOBAQIXrUbgexT1ACtejcD2KWEA9CtejcA1VQClcj8L1KFVACtejcD06U0BSuB6F67FEQDMzMzMzs1hACtejcD3KTEAUrkfheuRYQHsUrkfhalZAMzMzMzPjWEAUrkfhevRYQEjhehSu51ZA16NwPQpXNkAAAAAAAABZQHsUrkfh+kdA16NwPQpXVkC4HoXrUXhUQBSuR+F6pFhAAAAAAABQVkBI4XoUrsc+QM3MzMzMzDtAXI/C9SjMWECPwvUoXK9NQFyPwvUoHD1A9ihcj8I1VkAAAAAAAABZQAAAAAAAAFlAZmZmZmaGS0CPwvUoXK9PQHE9Ctej0FdAAAAAAAAAWUDD9Shcj4JQQAAAAAAAAFlAuB6F61HoV0CuR+F6FD5WQFyPwvUo3EhA4XoUrkdhSkAAAAAAAABZQPYoXI/CNUVApHA9CtfTVUAAAAAAAABZQAAAAAAAAFlAmpmZmZk5VkAK16NwPQpUQHE9CtejQFZApHA9CtejVUCPwvUoXD9YQAAAAAAAAFlAuB6F61HYWECamZmZmRlVQOxRuB6Fu1hAUrgehetxWEBxPQrXo3BWQNejcD0KF0hAhetRuB5FUUAAAAAAAABZQClcj8L1WFRA16NwPQrHUUC4HoXrUXhYQHE9CtejEFdAhetRuB7lTUBI4XoUrmdOQClcj8L1aFhArkfhehSuVkAAAAAAAABZQKRwPQrXY0FASOF6FK6nT0DsUbgehXtWQAAAAAAAkFhA9ihcj8IlUEAAAAAAAABZQLgehetRWEdAhetRuB71WEBxPQrXo5BXQBSuR+F6pFNArkfhehRuSkAK16NwPfpXQFyPwvUo7FBAhetRuB7FQUAUrkfherRSQClcj8L1OFFAH4XrUbjeVUAAAAAAAABZQAAAAAAAAFlAAAAAAADATUDNzMzMzMxEQK5H4XoUjkpAAAAAAAAAWUCamZmZmXlTQPYoXI/CNVZA4XoUrkehVkBxPQrXo7BAQOF6FK5HkVdAH4XrUbguUkDsUbgehStWQJqZmZmZiVhAAAAAAAAAWUBcj8L1KOxYQKRwPQrX41hAhetRuB6FVECF61G4HqVWQAAAAAAAAFlAmpmZmZnpVkBcj8L1KJxJQBSuR+F6dFhAmpmZmZnJV0AAAAAAABBYQK5H4XoU7lJAXI/C9SjsWEDXo3A9CqdQQPYoXI/CBVVAAAAAAAAQWEAzMzMzM3NHQAAAAAAAAFlAAAAAAAAAWUCamZmZmdlYQOF6FK5HgU9ASOF6FK6HOkCuR+F6FL5TQDMzMzMzM0JAAAAAAAAAWUDXo3A9CpdVQHsUrkfh2klAZmZmZmbWVUAAAAAAAABZQAAAAAAAAFlAFK5H4XqkV0Bcj8L1KOxRQOF6FK5HwVhAFK5H4XpUUEC4HoXrURhHQOF6FK5H8VhA7FG4HoWLWEBxPQrXo9BVQLgehetRqFhAcT0K16NAWEA9CtejcB1DQIXrUbge1VZA4XoUrkcxWEAAAAAAAABZQFK4HoXrkUNArkfhehQ+WEApXI/C9ShXQClcj8L16FdAH4XrUbi+VUCF61G4HvVXQB+F61G4rlZAmpmZmZlZS0DsUbgehUtEQKRwPQrXg0lA\",\"dtype\":\"float64\",\"order\":\"little\",\"shape\":[183]},\"y\":{\"__ndarray__\":\"UIwaqmvSAEDg8XYFnyQNwCBWbkMuZQXAQHjg1mJ8FMAAyB1hOUGgv4AS/3B8v/G/YMsriAEpA0Agwrq83Q0VwOAdDxNVtQ/AgJ2d3qde4j9g/aODO0wOQID5AL6CzuE/wLkKM/2IA0AAsrb7mLHXP6AylcHlhQBAoMF/UF+MDcBAvrwjyxL8P5DjXIItjgpAIG5ieXZODkBAlOKlXKr1vwBKNMoGoOe/lA7mcLKCIECAl/WIecP7v2DR8sZztQRAQKX6skOe/z/gHQzYCeD2v6CnEqPgrwRAAHtDmNWvFcCAfS3s05vhvwBhc5qWpO0/sKx66kZYFMCYCyItQw8gQABLe0T4X92/ANl03HiHCsBwOewmCBcQwKBQQxZncxbAcJLAVAGJEEAA/ViKwV8DwBDUH94yZBDA0DGvOJn+E0CAEjzw4d3lv6AWUC3MKw7AMPv4x8J5FMBAKTzoJOb3v8CXa7L7XwdAuKxvvFM8FMDAmCPBnJYMwNBTHZqn+ADAgOgLuAJrAkBgfcoBsNgUwNB9kcYlgxhAAC6Qpf+w6D+A6PjjSy4LwBg2SjEdjRXAAOTOCvfk6b8oHJUabEsnQNhdPn0PGyPAoBrmvz1PGEDQ4D+oL8YQwKCtDHX8khPAALg46cLq27/gxhsIll8FQGClhctw7QhAYAlhy3M6C8DgpqIuSQsIQABRQkaI6ArAIHvSIcnKCEAgnfD75PIHQAD1Ti2uyxBAaAzDwteAFkDQGbfPWNomQKCkgZkrKPq/wCtSsgNKDUAAh9cCsiT3P5D/xJOBfhTAQNdyfNZ0EkCAglHShiLsP2BDPwVdpAXA4N5q7InbB0Dw13e2MNkTwMBbVFZ3pxPA8MNe1w53FcBADa8GvW8JwKAaIs5FmxvAAF4UwZDA9r8AFH9kjQcCQOBISUElcfm/sIwGh6RnJECAKCEjRHQQwADkLlP59c4/wEbDlhw1/j9AXYEkdwP6P8DKTR3Y6vG/7OAX+/EkMkBQbPV7w7YTQEC1Y6PMJPw/AID0PVwuqj9AR6YOliwVwAhELdF6XxXA8HdeHicKDkAAsrZtfqXnv4CdVWziGP6/kE7fw9QLGUCg1mgEv4gSwGCkNvob+xTAYAdEU/6hBkAAimHfRPjcv4QtqXfNnCBAoDriun/PDcCALtoyuWzjPyAlAWV9xxHAkHmIhC7eCEAg6mfiT18DQKh7JrIA6xVA4NO3RN1kEEAgwrq83Q0RwEBHpg6WLBHAMDDI7N/FIcCAaP+JUWLpv1AlTFe9WAZAEBRz22L5E8DAtRt3AJH6vxjav6xrdCNAICiCbdpgEcC4CwFWESIYwAAmHF0r58G/QF4DXUlSI8Dgod08ooAMQACmKFzzPum/IP+JJwP9DsAACx+bn6TgP1DD69R3ORXAAMEhDYuc7D+AcvjoLzDlP4DDawFZkgFAAO2RCC4fC0CwoEQhhg0RwECXqsHWYvY/oEHyqvWPCUBwj0XKGroXQACdwEdn3+Q/wHAPyKI9DkCA3z0GNXXgP0Br4uPjAQXAoD0QgIcsBkCYhk8zFCIVQEBHpg6WLBfAAMCvM5J0ej9AgSxTL/cMwICsJOjFiv8/gOGnw3Sn/z9EVFXl5SwhQLALMMgPiQXAUPXt7xBBFcAgy3yxnG0IwJAG5ve8gRHAACGyIJaN7D8APc9qJe8SwHB62UHJXxbAAOrWexk1JkAAkIQtGQ3ePwAOTz52VOW/wMeYEb89+L8AUi8kxwC7P3AANPJRfRJAAEOKtglk/j/gbW/WwNwJwICbckW+e/K/kAbgOTxLHEDQNhZj/qUSwCB80wdnNQNAABz4/7/P6T9ArdEIfhENwFj/yWPAMRXAYPOKn/MZA8Cg9ffwAoMAwFBqH+A+aBFASDRZx5d/IUAAbtAOoh3zP4BFGtf6YfQ/ABoWi/WWCMAAMCaI17qhvyCtJjtQkxNA\",\"dtype\":\"float64\",\"order\":\"little\",\"shape\":[183]}},\"selected\":{\"id\":\"2076\"},\"selection_policy\":{\"id\":\"2075\"}},\"id\":\"1996\",\"type\":\"ColumnDataSource\"},{\"attributes\":{},\"id\":\"2076\",\"type\":\"Selection\"},{\"attributes\":{\"source\":{\"id\":\"1996\"}},\"id\":\"2001\",\"type\":\"CDSView\"},{\"attributes\":{\"axis\":{\"id\":\"1978\"},\"coordinates\":null,\"dimension\":1,\"group\":null,\"ticker\":null},\"id\":\"1981\",\"type\":\"Grid\"},{\"attributes\":{\"fill_alpha\":{\"value\":0.2},\"fill_color\":{\"value\":\"#1f77b4\"},\"hatch_alpha\":{\"value\":0.2},\"line_alpha\":{\"value\":0.2},\"line_color\":{\"value\":\"#1f77b4\"},\"x\":{\"field\":\"x\"},\"y\":{\"field\":\"y\"}},\"id\":\"1999\",\"type\":\"Scatter\"},{\"attributes\":{\"line_color\":\"#1f77b4\",\"x\":{\"field\":\"x\"},\"y\":{\"field\":\"y\"}},\"id\":\"2003\",\"type\":\"Line\"},{\"attributes\":{\"line_alpha\":0.1,\"line_color\":\"#1f77b4\",\"x\":{\"field\":\"x\"},\"y\":{\"field\":\"y\"}},\"id\":\"2004\",\"type\":\"Line\"},{\"attributes\":{\"axis_label\":\"Yhat-Y\",\"coordinates\":null,\"formatter\":{\"id\":\"2070\"},\"group\":null,\"major_label_policy\":{\"id\":\"2071\"},\"ticker\":{\"id\":\"1979\"}},\"id\":\"1978\",\"type\":\"LinearAxis\"}],\"root_ids\":[\"1963\"]},\"title\":\"Bokeh Application\",\"version\":\"2.4.2\"}};\n",
       "  const render_items = [{\"docid\":\"8de2ba54-a30f-4bb5-9754-22ee16ed530d\",\"root_ids\":[\"1963\"],\"roots\":{\"1963\":\"54499ff0-513f-46e9-83fe-0e42e8ec1ba8\"}}];\n",
       "  root.Bokeh.embed.embed_items_notebook(docs_json, render_items);\n",
       "\n",
       "  }\n",
       "  if (root.Bokeh !== undefined) {\n",
       "    embed_document(root);\n",
       "  } else {\n",
       "    let attempts = 0;\n",
       "    const timer = setInterval(function(root) {\n",
       "      if (root.Bokeh !== undefined) {\n",
       "        clearInterval(timer);\n",
       "        embed_document(root);\n",
       "      } else {\n",
       "        attempts++;\n",
       "        if (attempts > 100) {\n",
       "          clearInterval(timer);\n",
       "          console.log(\"Bokeh: ERROR: Unable to run BokehJS code because BokehJS library is missing\");\n",
       "        }\n",
       "      }\n",
       "    }, 10, root)\n",
       "  }\n",
       "})(window);"
      ],
      "application/vnd.bokehjs_exec.v0+json": ""
     },
     "metadata": {
      "application/vnd.bokehjs_exec.v0+json": {
       "id": "1963"
      }
     },
     "output_type": "display_data"
    }
   ],
   "source": [
    "# creating residual plot\n",
    "def comparison_plot(x,Y, Yhat):\n",
    "    '''Plots Predicted vs True values for analysis of regression'''\n",
    "    comparison_plot = figure(title='Difference between Measured and Predicted Values')\n",
    "    comparison_plot.xaxis.axis_label='x'\n",
    "    comparison_plot.yaxis.axis_label='Yhat-Y'\n",
    "    comparison_plot.scatter(x=x,y=Yhat-Y)\n",
    "    comparison_plot.line(x=[x.min(),x.max()],y=[0,0])\n",
    "    return comparison_plot\n",
    "show(comparison_plot(x2015.ravel(),Y2015[:,0], Yhat2015[:,0]))"
   ]
  },
  {
   "cell_type": "code",
   "execution_count": 104,
   "metadata": {},
   "outputs": [
    {
     "name": "stdout",
     "output_type": "stream",
     "text": [
      "0.6634754097409721\n"
     ]
    }
   ],
   "source": [
    "# calculating R^2\n",
    "corr_matrix = np.corrcoef(Y2015[:,0], Yhat2015[:,0])\n",
    "corr = corr_matrix[0,1]\n",
    "R_sq = corr**2\n",
    " \n",
    "print(R_sq)"
   ]
  },
  {
   "cell_type": "code",
   "execution_count": 105,
   "metadata": {},
   "outputs": [
    {
     "data": {
      "text/plain": [
       "-1.2813065726821479e-14"
      ]
     },
     "execution_count": 105,
     "metadata": {},
     "output_type": "execute_result"
    }
   ],
   "source": [
    "# calculating mean of residuals\n",
    "residuals=Yhat2015[:,0]-Y2015[:,0]\n",
    "np.mean(residuals)"
   ]
  },
  {
   "cell_type": "code",
   "execution_count": 106,
   "metadata": {},
   "outputs": [
    {
     "data": {
      "image/png": "[encoded data removed]",
      "text/plain": [
       "<Figure size 360x360 with 1 Axes>"
      ]
     },
     "metadata": {
      "needs_background": "light"
     },
     "output_type": "display_data"
    }
   ],
   "source": [
    "# creating residuals distribution\n",
    "p = sns.displot(residuals,kde=True)"
   ]
  },
  {
   "cell_type": "code",
   "execution_count": 107,
   "metadata": {},
   "outputs": [
    {
     "data": {
      "text/html": [
       "<div>\n",
       "<style scoped>\n",
       "    .dataframe tbody tr th:only-of-type {\n",
       "        vertical-align: middle;\n",
       "    }\n",
       "\n",
       "    .dataframe tbody tr th {\n",
       "        vertical-align: top;\n",
       "    }\n",
       "\n",
       "    .dataframe thead th {\n",
       "        text-align: right;\n",
       "    }\n",
       "</style>\n",
       "<table border=\"1\" class=\"dataframe\">\n",
       "  <thead>\n",
       "    <tr style=\"text-align: right;\">\n",
       "      <th></th>\n",
       "      <th>0</th>\n",
       "    </tr>\n",
       "  </thead>\n",
       "  <tbody>\n",
       "    <tr>\n",
       "      <th>count</th>\n",
       "      <td>183.000000</td>\n",
       "    </tr>\n",
       "    <tr>\n",
       "      <th>mean</th>\n",
       "      <td>80.199891</td>\n",
       "    </tr>\n",
       "    <tr>\n",
       "      <th>std</th>\n",
       "      <td>22.347111</td>\n",
       "    </tr>\n",
       "    <tr>\n",
       "      <th>min</th>\n",
       "      <td>22.340000</td>\n",
       "    </tr>\n",
       "    <tr>\n",
       "      <th>25%</th>\n",
       "      <td>64.955000</td>\n",
       "    </tr>\n",
       "    <tr>\n",
       "      <th>50%</th>\n",
       "      <td>89.670000</td>\n",
       "    </tr>\n",
       "    <tr>\n",
       "      <th>75%</th>\n",
       "      <td>98.600000</td>\n",
       "    </tr>\n",
       "    <tr>\n",
       "      <th>max</th>\n",
       "      <td>100.000000</td>\n",
       "    </tr>\n",
       "  </tbody>\n",
       "</table>\n",
       "</div>"
      ],
      "text/plain": [
       "                0\n",
       "count  183.000000\n",
       "mean    80.199891\n",
       "std     22.347111\n",
       "min     22.340000\n",
       "25%     64.955000\n",
       "50%     89.670000\n",
       "75%     98.600000\n",
       "max    100.000000"
      ]
     },
     "execution_count": 107,
     "metadata": {},
     "output_type": "execute_result"
    }
   ],
   "source": [
    "# looking if there are outliers\n",
    "df=pd.DataFrame(x2015)\n",
    "df.describe()"
   ]
  },
  {
   "cell_type": "code",
   "execution_count": 108,
   "metadata": {},
   "outputs": [
    {
     "name": "stdout",
     "output_type": "stream",
     "text": [
      "-3.1599547051929853\n"
     ]
    }
   ],
   "source": [
    "df = pd.DataFrame({'x': x2015[:,0],\n",
    "                   'y': Y2015[:,0]})\n",
    "model = ols('x ~ y', data=df).fit()\n",
    "stud_res = model.outlier_test()\n",
    "\n",
    "for x in stud_res['student_resid']:\n",
    "    if x > 3 or x < -3:\n",
    "        print(x)"
   ]
  },
  {
   "cell_type": "code",
   "execution_count": null,
   "metadata": {},
   "outputs": [],
   "source": []
  }
 ],
 "metadata": {
  "colab": {
   "provenance": []
  },
  "kernelspec": {
   "display_name": "Python 3 (ipykernel)",
   "language": "python",
   "name": "python3"
  },
  "language_info": {
   "codemirror_mode": {
    "name": "ipython",
    "version": 3
   },
   "file_extension": ".py",
   "mimetype": "text/x-python",
   "name": "python",
   "nbconvert_exporter": "python",
   "pygments_lexer": "ipython3",
   "version": "3.9.12"
  }
 },
 "nbformat": 4,
 "nbformat_minor": 1
}
